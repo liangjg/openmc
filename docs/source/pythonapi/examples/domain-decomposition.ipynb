{
 "cells": [
  {
   "cell_type": "markdown",
   "metadata": {},
   "source": [
    "This notebook demonstrates the usage of domain decomposition in a simulation, including how to set up domain decomposition inputs, run the simulation and post-process data from statepoint files of domain-decomposed runs using the Python API.\n"
   ]
  },
  {
   "cell_type": "code",
   "execution_count": 1,
   "metadata": {
    "collapsed": false
   },
   "outputs": [],
   "source": [
    "%matplotlib inline\n",
    "import glob\n",
    "from IPython.display import Image\n",
    "import matplotlib.pyplot as plt\n",
    "import scipy.stats\n",
    "import numpy as np\n",
    "import pandas as pd\n",
    "\n",
    "import openmc"
   ]
  },
  {
   "cell_type": "markdown",
   "metadata": {},
   "source": [
    "## Generate Input Files"
   ]
  },
  {
   "cell_type": "markdown",
   "metadata": {},
   "source": [
    "Generally, except that the domain decomposition parameters need to be added in the \"settings.xml\" file, the ways to define materials, geometry, tallies and plots are the same as normal modeling."
   ]
  },
  {
   "cell_type": "markdown",
   "metadata": {},
   "source": [
    "**Create materials**"
   ]
  },
  {
   "cell_type": "markdown",
   "metadata": {},
   "source": [
    "Three materials for the fuel, water, and cladding of the fuel pin are created and written to materials XML file."
   ]
  },
  {
   "cell_type": "code",
   "execution_count": 2,
   "metadata": {
    "collapsed": true
   },
   "outputs": [],
   "source": [
    "# Instantiate some Nuclides\n",
    "h1 = openmc.Nuclide('H1')\n",
    "b10 = openmc.Nuclide('B10')\n",
    "o16 = openmc.Nuclide('O16')\n",
    "u235 = openmc.Nuclide('U235')\n",
    "u238 = openmc.Nuclide('U238')\n",
    "zr90 = openmc.Nuclide('Zr90')\n",
    "\n",
    "# 1.6 enriched fuel\n",
    "fuel = openmc.Material(name='1.6% Fuel')\n",
    "fuel.set_density('g/cm3', 10.31341)\n",
    "fuel.add_nuclide(u235, 3.7503e-4)\n",
    "fuel.add_nuclide(u238, 2.2625e-2)\n",
    "fuel.add_nuclide(o16, 4.6007e-2)\n",
    "\n",
    "# borated water\n",
    "water = openmc.Material(name='Borated Water')\n",
    "water.set_density('g/cm3', 0.740582)\n",
    "water.add_nuclide(h1, 4.9457e-2)\n",
    "water.add_nuclide(o16, 2.4732e-2)\n",
    "water.add_nuclide(b10, 8.0042e-6)\n",
    "\n",
    "# zircaloy\n",
    "zircaloy = openmc.Material(name='Zircaloy')\n",
    "zircaloy.set_density('g/cm3', 6.55)\n",
    "zircaloy.add_nuclide(zr90, 7.2758e-3)\n",
    "\n",
    "# Create materials file\n",
    "# Instantiate a Materials collection\n",
    "materials_file = openmc.Materials((fuel, water, zircaloy))\n",
    "materials_file.default_xs = '71c'\n",
    "\n",
    "# Export to \"materials.xml\"\n",
    "materials_file.export_to_xml()"
   ]
  },
  {
   "cell_type": "markdown",
   "metadata": {
    "collapsed": false
   },
   "source": [
    "**Create geometry**"
   ]
  },
  {
   "cell_type": "markdown",
   "metadata": {},
   "source": [
    "This problem will be a 17x17 rectangular lattice with a 1.26 cm pitch while each pitch contains three regions for the fuel, the clad, and the surrounding coolant."
   ]
  },
  {
   "cell_type": "code",
   "execution_count": 3,
   "metadata": {
    "collapsed": false
   },
   "outputs": [],
   "source": [
    "# Create cylinders for the fuel and clad\n",
    "fuel_outer_radius = openmc.ZCylinder(x0=0.0, y0=0.0, R=0.39218)\n",
    "clad_outer_radius = openmc.ZCylinder(x0=0.0, y0=0.0, R=0.45720)\n",
    "\n",
    "# Create boundary planes to surround the geometry\n",
    "# Use both reflective and vacuum boundaries to make life interesting\n",
    "min_x = openmc.XPlane(x0=-10.71, boundary_type='reflective')\n",
    "max_x = openmc.XPlane(x0=+10.71, boundary_type='vacuum')\n",
    "min_y = openmc.YPlane(y0=-10.71, boundary_type='vacuum')\n",
    "max_y = openmc.YPlane(y0=+10.71, boundary_type='reflective')\n",
    "min_z = openmc.ZPlane(z0=-10.71, boundary_type='reflective')\n",
    "max_z = openmc.ZPlane(z0=+10.71, boundary_type='reflective')\n",
    "\n",
    "# Create a Universe to encapsulate a fuel pin\n",
    "pin_cell_universe = openmc.Universe(name='1.6% Fuel Pin')\n",
    "\n",
    "# Create fuel Cell\n",
    "fuel_cell = openmc.Cell(name='1.6% Fuel')\n",
    "fuel_cell.fill = fuel\n",
    "fuel_cell.region = -fuel_outer_radius\n",
    "pin_cell_universe.add_cell(fuel_cell)\n",
    "\n",
    "# Create a clad Cell\n",
    "clad_cell = openmc.Cell(name='1.6% Clad')\n",
    "clad_cell.fill = zircaloy\n",
    "clad_cell.region = +fuel_outer_radius & -clad_outer_radius\n",
    "pin_cell_universe.add_cell(clad_cell)\n",
    "\n",
    "# Create a moderator Cell\n",
    "moderator_cell = openmc.Cell(name='1.6% Moderator')\n",
    "moderator_cell.fill = water\n",
    "moderator_cell.region = +clad_outer_radius\n",
    "pin_cell_universe.add_cell(moderator_cell)\n",
    "\n",
    "# Create fuel assembly Lattice\n",
    "assembly = openmc.RectLattice(name='1.6% Fuel - 0BA')\n",
    "assembly.pitch = (1.26, 1.26)\n",
    "assembly.lower_left = [-1.26 * 17. / 2.0] * 2\n",
    "assembly.universes = [[pin_cell_universe] * 17] * 17\n",
    "\n",
    "# Create root Cell\n",
    "root_cell = openmc.Cell(name='root cell')\n",
    "root_cell.fill = assembly\n",
    "\n",
    "# Add boundary planes\n",
    "root_cell.region = +min_x & -max_x & +min_y & -max_y & +min_z & -max_z\n",
    "\n",
    "# Create root Universe\n",
    "root_universe = openmc.Universe(universe_id=0, name='root universe')\n",
    "root_universe.add_cell(root_cell)\n",
    "\n",
    "# Create Geometry and set root Universe\n",
    "geometry = openmc.Geometry()\n",
    "geometry.root_universe = root_universe\n",
    "\n",
    "# Export to \"geometry.xml\"\n",
    "geometry.export_to_xml()"
   ]
  },
  {
   "cell_type": "markdown",
   "metadata": {},
   "source": [
    "**Simulation parameters**"
   ]
  },
  {
   "cell_type": "markdown",
   "metadata": {},
   "source": [
    "In this case, we will use 20 inactive batches and 80 active batches each with 2000 particles."
   ]
  },
  {
   "cell_type": "code",
   "execution_count": 4,
   "metadata": {
    "collapsed": false
   },
   "outputs": [],
   "source": [
    "# OpenMC simulation parameters\n",
    "batches = 80\n",
    "inactive = 20\n",
    "particles = 2000\n",
    "\n",
    "# Instantiate a Settings object\n",
    "settings_file = openmc.Settings()\n",
    "settings_file.batches = batches\n",
    "settings_file.inactive = inactive\n",
    "settings_file.particles = particles\n",
    "settings_file.output = {'tallies': False}\n",
    "\n",
    "# Create an initial uniform spatial source distribution over fissionable zones\n",
    "bounds = [-10.71, -10.71, -10, 10.71, 10.71, 10.]\n",
    "uniform_dist = openmc.stats.Box(bounds[:3], bounds[3:], only_fissionable=True)\n",
    "settings_file.source = openmc.source.Source(space=uniform_dist)"
   ]
  },
  {
   "cell_type": "markdown",
   "metadata": {},
   "source": [
    "Now we can **set up domain decomposition parameters**. By defining a 2x2x1 cartesian mesh in size of 22cmx22cmx22cm, we are going to simulate this model using 4 domains. The domain mesh region is defined to be a bit larger than the lattice so that the whole geometry are covered. Since the 4 domains are symmetric, a uniform nodemap is defined."
   ]
  },
  {
   "cell_type": "code",
   "execution_count": 5,
   "metadata": {
    "collapsed": false
   },
   "outputs": [],
   "source": [
    "# Domain mesh\n",
    "settings_file.dd_mesh_dimension = [2, 2, 1]\n",
    "settings_file.dd_mesh_lower_left = [-11, -11, -11]\n",
    "settings_file.dd_mesh_upper_right = [11,  11,  11]\n",
    "\n",
    "# Nodemap to specify the distribution of load for all domains\n",
    "settings_file.dd_nodemap = [1, 1, 1, 1]\n",
    "\n",
    "# Whether or not to counts all particle interactions in all domains\n",
    "settings_file.dd_count_interactions = True"
   ]
  },
  {
   "cell_type": "markdown",
   "metadata": {},
   "source": [
    "Let's generate the \"settings.xml\" input file."
   ]
  },
  {
   "cell_type": "code",
   "execution_count": 6,
   "metadata": {
    "collapsed": true
   },
   "outputs": [],
   "source": [
    "# Export to \"settings.xml\"\n",
    "settings_file.export_to_xml()"
   ]
  },
  {
   "cell_type": "markdown",
   "metadata": {},
   "source": [
    "**Plot geometry with domain meshlines**"
   ]
  },
  {
   "cell_type": "markdown",
   "metadata": {},
   "source": [
    "Let us create a plot file to verify that our pin cell geometry was created successfully. The domain meshlines are to be plotted on top of the geometry figure."
   ]
  },
  {
   "cell_type": "code",
   "execution_count": 7,
   "metadata": {
    "collapsed": false
   },
   "outputs": [],
   "source": [
    "# Instantiate a Plot\n",
    "plot = openmc.Plot(plot_id=1)\n",
    "plot.filename = 'materials-xy'\n",
    "plot.origin = [0, 0, 0]\n",
    "plot.width = [22.5, 22.5]\n",
    "plot.pixels = [250, 250]\n",
    "plot.color = 'mat'\n",
    "\n",
    "# Plot domain meshlines and set line color to be green\n",
    "plot.meshlines = {\n",
    "    'type': 'domain_decomposition',\n",
    "    'linewidth': 1,\n",
    "    'color': (0,255,0)\n",
    "}\n",
    "\n",
    "# Instantiate a Plots collection and export to \"plots.xml\"\n",
    "plot_file = openmc.Plots([plot])\n",
    "plot_file.export_to_xml()"
   ]
  },
  {
   "cell_type": "markdown",
   "metadata": {},
   "source": [
    "With the plots.xml file, we can now generate and view the plot. OpenMC outputs plots in .ppm format, which can be converted into a compressed format like .png with the convert utility."
   ]
  },
  {
   "cell_type": "code",
   "execution_count": 8,
   "metadata": {
    "collapsed": false
   },
   "outputs": [
    {
     "data": {
      "text/plain": [
       "0"
      ]
     },
     "execution_count": 8,
     "metadata": {},
     "output_type": "execute_result"
    }
   ],
   "source": [
    "# Run openmc in plotting mode\n",
    "openmc.plot_geometry(output=False)"
   ]
  },
  {
   "cell_type": "code",
   "execution_count": 9,
   "metadata": {
    "collapsed": false
   },
   "outputs": [
    {
     "data": {
      "image/png": "[encoded data removed]",
      "text/plain": [
       "<IPython.core.display.Image object>"
      ]
     },
     "execution_count": 9,
     "metadata": {},
     "output_type": "execute_result"
    }
   ],
   "source": [
    "# Convert OpenMC's funky ppm to png\n",
    "!convert materials-xy.ppm materials-xy.png\n",
    "\n",
    "# Display the materials plot inline\n",
    "Image(filename='materials-xy.png')"
   ]
  },
  {
   "cell_type": "markdown",
   "metadata": {},
   "source": [
    "As can be seen from the plot, we have constructed a nice array of pin cells and the spatial geometry was divided into 4 domains in xy plane."
   ]
  },
  {
   "cell_type": "markdown",
   "metadata": {},
   "source": [
    "**Create tallies**"
   ]
  },
  {
   "cell_type": "markdown",
   "metadata": {},
   "source": [
    "We will set up a fission rate mesh tally, a cell tally with nuclides and a \"distribcell\" tally."
   ]
  },
  {
   "cell_type": "code",
   "execution_count": 10,
   "metadata": {
    "collapsed": true
   },
   "outputs": [],
   "source": [
    "# Instantiate an empty Tallies object\n",
    "tallies_file = openmc.Tallies()\n",
    "tallies_file._tallies = []\n",
    "\n",
    "# Instantiate a tally Mesh\n",
    "mesh = openmc.Mesh(mesh_id=1)\n",
    "mesh.type = 'regular'\n",
    "mesh.dimension = [17, 17]\n",
    "mesh.lower_left = [-10.71, -10.71]\n",
    "mesh.width = [1.26, 1.26]\n",
    "\n",
    "# Instantiate tally Filter\n",
    "mesh_filter = openmc.Filter()\n",
    "mesh_filter.mesh = mesh\n",
    "\n",
    "# Instantiate energy Filter\n",
    "energy_filter = openmc.Filter()\n",
    "energy_filter.type = 'energy'\n",
    "energy_filter.bins = np.array([0, 0.625e-6, 20.])\n",
    "\n",
    "# Instantiate the Tally\n",
    "tally = openmc.Tally(name='mesh tally')\n",
    "tally.filters = [mesh_filter, energy_filter]\n",
    "tally.scores = ['fission', 'nu-fission']\n",
    "\n",
    "# Add mesh and Tally to Tallies\n",
    "tallies_file.append(tally)\n",
    "\n",
    "# Instantiate tally Filter\n",
    "cell_filter = openmc.Filter(type='cell', bins=[fuel_cell.id])\n",
    "\n",
    "# Instantiate the tally\n",
    "tally = openmc.Tally(name='cell tally')\n",
    "tally.filters = [cell_filter]\n",
    "tally.scores = ['scatter-y2']\n",
    "tally.nuclides = [u235, u238]\n",
    "\n",
    "# Add mesh and tally to Tallies\n",
    "tallies_file.append(tally)\n",
    "\n",
    "# Instantiate tally Filter\n",
    "distribcell_filter = openmc.Filter(type='distribcell', bins=[moderator_cell.id])\n",
    "\n",
    "# Instantiate the Tally\n",
    "tally = openmc.Tally(name='distribcell tally')\n",
    "tally.filters = [distribcell_filter]\n",
    "tally.scores = ['absorption', 'scatter']\n",
    "\n",
    "# Add mesh and tally to Tallies\n",
    "tallies_file.append(tally)\n",
    "\n",
    "# Export to \"tallies.xml\"\n",
    "tallies_file.export_to_xml()"
   ]
  },
  {
   "cell_type": "markdown",
   "metadata": {},
   "source": [
    "## Run OpenMC"
   ]
  },
  {
   "cell_type": "markdown",
   "metadata": {},
   "source": [
    "Now we a have a complete set of inputs, so we can go ahead and run our simulation. Note that domain decomposed cases must be run in a MPI parallel mode and the number of parallel processors **must be equal or greater** than the number of domains."
   ]
  },
  {
   "cell_type": "code",
   "execution_count": 11,
   "metadata": {
    "collapsed": false,
    "scrolled": false
   },
   "outputs": [
    {
     "name": "stdout",
     "output_type": "stream",
     "text": [
      "\n",
      "                               %%%%%%%%%%%%%%%\n",
      "                          %%%%%%%%%%%%%%%%%%%%%%%%\n",
      "                       %%%%%%%%%%%%%%%%%%%%%%%%%%%%%%\n",
      "                     %%%%%%%%%%%%%%%%%%%%%%%%%%%%%%%%%%\n",
      "                   %%%%%%%%%%%%%%%%%%%%%%%%%%%%%%%%%%%%%%\n",
      "                  %%%%%%%%%%%%%%%%%%%%%%%%%%%%%%%%%%%%%%%%\n",
      "                                   %%%%%%%%%%%%%%%%%%%%%%%%\n",
      "                                    %%%%%%%%%%%%%%%%%%%%%%%%\n",
      "                ###############      %%%%%%%%%%%%%%%%%%%%%%%%\n",
      "               ##################     %%%%%%%%%%%%%%%%%%%%%%%\n",
      "               ###################     %%%%%%%%%%%%%%%%%%%%%%%\n",
      "               ####################     %%%%%%%%%%%%%%%%%%%%%%\n",
      "               #####################     %%%%%%%%%%%%%%%%%%%%%\n",
      "               ######################     %%%%%%%%%%%%%%%%%%%%\n",
      "               #######################     %%%%%%%%%%%%%%%%%%\n",
      "                #######################     %%%%%%%%%%%%%%%%%\n",
      "                ######################     %%%%%%%%%%%%%%%%%\n",
      "                 ####################     %%%%%%%%%%%%%%%%%\n",
      "                   #################     %%%%%%%%%%%%%%%%%\n",
      "                    ###############     %%%%%%%%%%%%%%%%\n",
      "                      ############     %%%%%%%%%%%%%%%\n",
      "                         ########     %%%%%%%%%%%%%%\n",
      "                                     %%%%%%%%%%%\n",
      "\n",
      "                   | The OpenMC Monte Carlo Code\n",
      "         Copyright | 2011-2016 Massachusetts Institute of Technology\n",
      "           License | http://openmc.readthedocs.io/en/latest/license.html\n",
      "           Version | 0.8.0\n",
      "          Git SHA1 | b0cca774046b1b6c4fe037ad15c8aae656991c83\n",
      "         Date/Time | 2016-09-28 07:22:18\n",
      "     MPI Processes | 4\n",
      "\n",
      " ===========================================================================\n",
      " ========================>     INITIALIZATION     <=========================\n",
      " ===========================================================================\n",
      "\n",
      " Reading settings XML file...\n",
      " Reading geometry XML file...\n",
      " Reading cross sections XML file...\n",
      " Reading materials XML file...\n",
      " Reading U235 from /mnt/hgfs/MIT_CRPG/OpenMC/nucdata/nndc_hdf5/U235.h5\n",
      " Reading U238 from /mnt/hgfs/MIT_CRPG/OpenMC/nucdata/nndc_hdf5/U238.h5\n",
      " Reading O16 from /mnt/hgfs/MIT_CRPG/OpenMC/nucdata/nndc_hdf5/O16.h5\n",
      " Reading H1 from /mnt/hgfs/MIT_CRPG/OpenMC/nucdata/nndc_hdf5/H1.h5\n",
      " Reading B10 from /mnt/hgfs/MIT_CRPG/OpenMC/nucdata/nndc_hdf5/B10.h5\n",
      " Reading Zr90 from /mnt/hgfs/MIT_CRPG/OpenMC/nucdata/nndc_hdf5/Zr90.h5\n",
      " Maximum neutron transport energy: 20.0000 MeV for U235\n",
      " Reading tallies XML file...\n",
      " Initializing domain decomposition parameters...\n",
      " Building neighboring cells lists for each surface...\n",
      " Setting up tally arrays...\n",
      " Initializing source particles...\n",
      "\n",
      " ===========================================================================\n",
      " ====================>     K EIGENVALUE SIMULATION     <====================\n",
      " ===========================================================================\n",
      "\n",
      "  Bat./Gen.      k            Average k         \n",
      "  =========   ========   ====================   \n",
      "        1/1    0.55856                       \n",
      "        2/1    0.66448                       \n",
      "        3/1    0.67242                       \n",
      "        4/1    0.67200                       \n",
      "        5/1    0.67133                       \n",
      "        6/1    0.69142                       \n",
      "        7/1    0.67047                       \n",
      "        8/1    0.62652                       \n",
      "        9/1    0.65570                       \n",
      "       10/1    0.71101                       \n",
      "       11/1    0.68998                       \n",
      "       12/1    0.66392                       \n",
      "       13/1    0.68959                       \n",
      "       14/1    0.65426                       \n",
      "       15/1    0.68457                       \n",
      "       16/1    0.72588                       \n",
      "       17/1    0.67307                       \n",
      "       18/1    0.68155                       \n",
      "       19/1    0.68223                       \n",
      "       20/1    0.71208                       \n",
      "       21/1    0.66569                       \n",
      "       22/1    0.67243    0.66906 +/- 0.00337\n",
      "       23/1    0.66593    0.66802 +/- 0.00221\n",
      "       24/1    0.70337    0.67685 +/- 0.00897\n",
      "       25/1    0.65853    0.67319 +/- 0.00786\n",
      "       26/1    0.63522    0.66686 +/- 0.00901\n",
      "       27/1    0.65712    0.66547 +/- 0.00774\n",
      "       28/1    0.67129    0.66620 +/- 0.00675\n",
      "       29/1    0.64066    0.66336 +/- 0.00659\n",
      "       30/1    0.66729    0.66375 +/- 0.00591\n",
      "       31/1    0.66034    0.66344 +/- 0.00535\n",
      "       32/1    0.68311    0.66508 +/- 0.00515\n",
      "       33/1    0.73393    0.67038 +/- 0.00711\n",
      "       34/1    0.70015    0.67250 +/- 0.00692\n",
      "       35/1    0.67402    0.67260 +/- 0.00644\n",
      "       36/1    0.69289    0.67387 +/- 0.00616\n",
      "       37/1    0.65864    0.67298 +/- 0.00585\n",
      "       38/1    0.65218    0.67182 +/- 0.00564\n",
      "       39/1    0.72598    0.67467 +/- 0.00605\n",
      "       40/1    0.68557    0.67522 +/- 0.00576\n",
      "       41/1    0.68206    0.67554 +/- 0.00549\n",
      "       42/1    0.66174    0.67492 +/- 0.00527\n",
      "       43/1    0.69855    0.67594 +/- 0.00514\n",
      "       44/1    0.71185    0.67744 +/- 0.00514\n",
      "       45/1    0.69542    0.67816 +/- 0.00499\n",
      "       46/1    0.69869    0.67895 +/- 0.00486\n",
      "       47/1    0.66650    0.67849 +/- 0.00469\n",
      "       48/1    0.69365    0.67903 +/- 0.00456\n",
      "       49/1    0.68877    0.67936 +/- 0.00441\n",
      "       50/1    0.61289    0.67715 +/- 0.00480\n",
      "       51/1    0.65924    0.67657 +/- 0.00468\n",
      "       52/1    0.69410    0.67712 +/- 0.00456\n",
      "       53/1    0.68307    0.67730 +/- 0.00443\n",
      "       54/1    0.73030    0.67886 +/- 0.00457\n",
      "       55/1    0.68636    0.67907 +/- 0.00444\n",
      "       56/1    0.66426    0.67866 +/- 0.00434\n",
      "       57/1    0.66650    0.67833 +/- 0.00423\n",
      "       58/1    0.67621    0.67828 +/- 0.00412\n",
      "       59/1    0.70885    0.67906 +/- 0.00409\n",
      "       60/1    0.66031    0.67859 +/- 0.00401\n",
      "       61/1    0.66992    0.67838 +/- 0.00392\n",
      "       62/1    0.68448    0.67853 +/- 0.00383\n",
      "       63/1    0.68003    0.67856 +/- 0.00374\n",
      "       64/1    0.63115    0.67748 +/- 0.00381\n",
      "       65/1    0.63178    0.67647 +/- 0.00386\n",
      "       66/1    0.66847    0.67629 +/- 0.00378\n",
      "       67/1    0.68018    0.67638 +/- 0.00370\n",
      "       68/1    0.66286    0.67609 +/- 0.00363\n",
      "       69/1    0.70693    0.67672 +/- 0.00361\n",
      "       70/1    0.70050    0.67720 +/- 0.00357\n",
      "       71/1    0.66126    0.67689 +/- 0.00351\n",
      "       72/1    0.65969    0.67656 +/- 0.00346\n",
      "       73/1    0.71261    0.67724 +/- 0.00346\n",
      "       74/1    0.70310    0.67772 +/- 0.00343\n",
      "       75/1    0.62751    0.67680 +/- 0.00349\n",
      "       76/1    0.66542    0.67660 +/- 0.00343\n",
      "       77/1    0.70099    0.67703 +/- 0.00340\n",
      "       78/1    0.62933    0.67620 +/- 0.00344\n",
      "       79/1    0.70371    0.67667 +/- 0.00341\n",
      "       80/1    0.74176    0.67776 +/- 0.00353\n",
      " Creating state point statepoint.80.h5...\n",
      "\n",
      " ===========================================================================\n",
      " ======================>     SIMULATION FINISHED     <======================\n",
      " ===========================================================================\n",
      "\n",
      "\n",
      " =======================>     TIMING STATISTICS     <=======================\n",
      "\n",
      " Total time for initialization     =  1.3430E+00 seconds\n",
      "   Reading cross sections          =  5.8900E-01 seconds\n",
      " Total time in simulation          =  9.2989E+01 seconds\n",
      "   Time in transport only          =  1.2116E+01 seconds\n",
      "   Time in inactive batches        =  2.2121E+01 seconds\n",
      "   Time in active batches          =  7.0868E+01 seconds\n",
      "   Time synchronizing fission bank =  2.7490E+00 seconds\n",
      "     Sampling source sites         =  0.0000E+00 seconds\n",
      "     SEND/RECV source sites        =  1.4230E+00 seconds\n",
      "   Time accumulating tallies       =  2.7910E+00 seconds\n",
      "   Time writing statepoints        =  6.3000E-02 seconds\n",
      "   Time writing materials          =  0.0000E+00 seconds\n",
      " Total time for finalization       =  0.0000E+00 seconds\n",
      " Total time elapsed                =  9.4400E+01 seconds\n",
      " Calculation Rate (inactive)       =  1808.24 neutrons/second\n",
      " Calculation Rate (active)         =  1693.29 neutrons/second\n",
      "\n",
      " ============================>     RESULTS     <============================\n",
      "\n",
      " k-effective (Collision)     =  0.67957 +/-  0.00301\n",
      " k-effective (Track-length)  =  0.67776 +/-  0.00353\n",
      " k-effective (Absorption)    =  0.67884 +/-  0.00285\n",
      " Combined k-effective        =  0.67921 +/-  0.00272\n",
      " Leakage Fraction            =  0.33897 +/-  0.00170\n",
      "\n",
      "\n",
      " ===================>     DOMAIN INTERACTION COUNTS     <===================\n",
      "\n",
      " Domain Mesh                 No. Interactions\n",
      " 1-1-1                            3837485\n",
      " 2-1-1                            2042597\n",
      " 1-2-1                            7307991\n",
      " 2-2-1                            3864515\n"
     ]
    },
    {
     "data": {
      "text/plain": [
       "0"
      ]
     },
     "execution_count": 11,
     "metadata": {},
     "output_type": "execute_result"
    }
   ],
   "source": [
    "# Run OpenMC!\n",
    "openmc.run(mpi_procs=4)"
   ]
  },
  {
   "cell_type": "markdown",
   "metadata": {},
   "source": [
    "## Tally Data Processing"
   ]
  },
  {
   "cell_type": "markdown",
   "metadata": {},
   "source": [
    "The domain decomposed simulation ran successfully. A statepoint files was created at the end of simulation. It should be noted that in domain decomposed runs, tally arrays are allocated in a \"on-the-fly\" way and tally results are accumulated for each domain. In the statepoint file, domain-specified on-the-fly tallies rather than the normally reduced tally results are written inside a new group \"on_the_fly_results\" for each tally. Tally data of different on-the-fly processes are written in different sub-groups \"proc_i\", where \"*i*\" represents the domain id."
   ]
  },
  {
   "cell_type": "markdown",
   "metadata": {},
   "source": [
    "Since tally results are seperated in multiple groups for dd runs, some merging work should be done to get the whole tally data. OpenMC Python API can do this job easily. Once the statepoint file is loaded, the Python API will automatically link all domain-specified groups and merge the tally data together. All the features for tally processing can be used normally."
   ]
  },
  {
   "cell_type": "code",
   "execution_count": 12,
   "metadata": {
    "collapsed": false
   },
   "outputs": [],
   "source": [
    "# Load statepoint file\n",
    "sp = openmc.StatePoint('statepoint.80.h5')"
   ]
  },
  {
   "cell_type": "markdown",
   "metadata": {},
   "source": [
    "We can check the domain decomposition infomation, like the number of domains, domain mesh, nodemap, etc."
   ]
  },
  {
   "cell_type": "code",
   "execution_count": 13,
   "metadata": {
    "collapsed": false
   },
   "outputs": [
    {
     "name": "stdout",
     "output_type": "stream",
     "text": [
      "Domain decomposition ative: True\n",
      "Number of domains: 4\n",
      "Load ditribution: [ 0.25  0.25  0.25  0.25]\n",
      "Counts of interactions: [3837485 2042597 7307991 3864515]\n",
      "Domain mesh: Mesh\n",
      "\tID             =\t10000\n",
      "\tName           =\tdomain decomposition mesh\n",
      "\tType           =\tregular\n",
      "\tBasis          =\t[2 2 1]\n",
      "\tWidth          =\t[-11. -11. -11.]\n",
      "\tOrigin         =\t[ 11.  11.  11.]\n",
      "\tPixels         =\t[ 11.  11.  22.]\n",
      "\n"
     ]
    }
   ],
   "source": [
    "print(\"Domain decomposition ative: {0}\".format(sp.domain_decomp_on))\n",
    "print(\"Number of domains: {0}\".format(sp.domain_number))\n",
    "print(\"Load ditribution: {0}\".format(sp.domain_nodemap))\n",
    "print(\"Counts of interactions: {0}\".format(sp.domain_n_interactions))\n",
    "print(\"Domain mesh: {0}\".format(sp.domain_decomp_mesh))"
   ]
  },
  {
   "cell_type": "markdown",
   "metadata": {},
   "source": [
    "**Analyze the mesh fission rate tally**"
   ]
  },
  {
   "cell_type": "code",
   "execution_count": 14,
   "metadata": {
    "collapsed": false
   },
   "outputs": [
    {
     "name": "stdout",
     "output_type": "stream",
     "text": [
      "Tally\n",
      "\tID             =\t10000\n",
      "\tName           =\tmesh tally\n",
      "\tFilters        =\t\n",
      "                \t\tmesh\t[1]\n",
      "                \t\tenergy\t[  0.00000000e+00   6.25000000e-07   2.00000000e+01]\n",
      "\tNuclides       =\ttotal \n",
      "\tScores         =\t[u'fission', u'nu-fission']\n",
      "\tEstimator      =\ttracklength\n",
      "\n"
     ]
    }
   ],
   "source": [
    "# Find the mesh tally with the StatePoint API\n",
    "tally = sp.get_tally(name='mesh tally')\n",
    "\n",
    "# Print a little info about the mesh tally to the screen\n",
    "print(tally)"
   ]
  },
  {
   "cell_type": "markdown",
   "metadata": {},
   "source": [
    "Use the new Tally data retrieval API with pure NumPy"
   ]
  },
  {
   "cell_type": "code",
   "execution_count": 15,
   "metadata": {
    "collapsed": false
   },
   "outputs": [
    {
     "name": "stdout",
     "output_type": "stream",
     "text": [
      "[[[ 0.09689803]]\n",
      "\n",
      " [[ 0.20368993]]\n",
      "\n",
      " [[ 0.04130542]]\n",
      "\n",
      " [[ 0.09271221]]]\n"
     ]
    }
   ],
   "source": [
    "# Get the relative error for the thermal fission reaction \n",
    "# rates in the four corner pins \n",
    "data = tally.get_values(scores=['fission'], filters=['mesh', 'energy'], \\\n",
    "                        filter_bins=[((1,1),(1,17), (17,1), (17,17)), \\\n",
    "                                    ((0., 0.625e-6),)], value='rel_err')\n",
    "print(data)"
   ]
  },
  {
   "cell_type": "code",
   "execution_count": 16,
   "metadata": {
    "collapsed": false
   },
   "outputs": [
    {
     "data": {
      "image/png": "[encoded data removed]",
      "text/plain": [
       "<matplotlib.figure.Figure at 0x7f0e12cfd490>"
      ]
     },
     "metadata": {},
     "output_type": "display_data"
    }
   ],
   "source": [
    "# Get a pandas dataframe for the mesh tally data\n",
    "df = tally.get_pandas_dataframe(nuclides=False)\n",
    "\n",
    "# Create a boxplot to view the distribution of\n",
    "# fission and nu-fission rates in the pins\n",
    "bp = df.boxplot(column='mean', by='score')"
   ]
  },
  {
   "cell_type": "code",
   "execution_count": 17,
   "metadata": {
    "collapsed": false
   },
   "outputs": [
    {
     "data": {
      "text/plain": [
       "<matplotlib.colorbar.Colorbar at 0x7f0de06e8dd0>"
      ]
     },
     "execution_count": 17,
     "metadata": {},
     "output_type": "execute_result"
    },
    {
     "data": {
      "image/png": "[encoded data removed]",
      "text/plain": [
       "<matplotlib.figure.Figure at 0x7f0e12cfd1d0>"
      ]
     },
     "metadata": {},
     "output_type": "display_data"
    }
   ],
   "source": [
    "# Extract thermal nu-fission rates from pandas\n",
    "fiss = df[df['score'] == 'nu-fission']\n",
    "fiss = fiss[fiss['energy low [MeV]'] == 0.0]\n",
    "\n",
    "# Extract mean and reshape as 2D NumPy arrays\n",
    "mean = fiss['mean'].reshape((17,17))\n",
    "\n",
    "plt.imshow(mean, interpolation='nearest')\n",
    "plt.title('fission rate')\n",
    "plt.xlabel('x')\n",
    "plt.ylabel('y')\n",
    "plt.colorbar()"
   ]
  },
  {
   "cell_type": "markdown",
   "metadata": {},
   "source": [
    "**Analyze the cell+nuclides scatter-y2 rate tally**"
   ]
  },
  {
   "cell_type": "code",
   "execution_count": 18,
   "metadata": {
    "collapsed": false
   },
   "outputs": [
    {
     "name": "stdout",
     "output_type": "stream",
     "text": [
      "Tally\n",
      "\tID             =\t10001\n",
      "\tName           =\tcell tally\n",
      "\tFilters        =\t\n",
      "                \t\tcell\t[10000]\n",
      "\tNuclides       =\tU235 U238 \n",
      "\tScores         =\t[u'scatter-Y0,0', u'scatter-Y1,-1', u'scatter-Y1,0', u'scatter-Y1,1', u'scatter-Y2,-2', u'scatter-Y2,-1', u'scatter-Y2,0', u'scatter-Y2,1', u'scatter-Y2,2']\n",
      "\tEstimator      =\tanalog\n",
      "\n"
     ]
    }
   ],
   "source": [
    "# Find the cell Tally with the StatePoint API\n",
    "tally = sp.get_tally(name='cell tally')\n",
    "\n",
    "# Print a little info about the cell tally to the screen\n",
    "print(tally)"
   ]
  },
  {
   "cell_type": "code",
   "execution_count": 19,
   "metadata": {
    "collapsed": false
   },
   "outputs": [
    {
     "data": {
      "text/html": [
       "<div>\n",
       "<table border=\"1\" class=\"dataframe\">\n",
       "  <thead>\n",
       "    <tr style=\"text-align: right;\">\n",
       "      <th></th>\n",
       "      <th>cell</th>\n",
       "      <th>nuclide</th>\n",
       "      <th>score</th>\n",
       "      <th>mean</th>\n",
       "      <th>std. dev.</th>\n",
       "    </tr>\n",
       "  </thead>\n",
       "  <tbody>\n",
       "    <tr>\n",
       "      <th>0</th>\n",
       "      <td>10000</td>\n",
       "      <td>U235</td>\n",
       "      <td>scatter-Y0,0</td>\n",
       "      <td>0.037955</td>\n",
       "      <td>0.001142</td>\n",
       "    </tr>\n",
       "    <tr>\n",
       "      <th>1</th>\n",
       "      <td>10000</td>\n",
       "      <td>U235</td>\n",
       "      <td>scatter-Y1,-1</td>\n",
       "      <td>0.000714</td>\n",
       "      <td>0.000396</td>\n",
       "    </tr>\n",
       "    <tr>\n",
       "      <th>2</th>\n",
       "      <td>10000</td>\n",
       "      <td>U235</td>\n",
       "      <td>scatter-Y1,0</td>\n",
       "      <td>0.000109</td>\n",
       "      <td>0.000367</td>\n",
       "    </tr>\n",
       "    <tr>\n",
       "      <th>3</th>\n",
       "      <td>10000</td>\n",
       "      <td>U235</td>\n",
       "      <td>scatter-Y1,1</td>\n",
       "      <td>-0.000498</td>\n",
       "      <td>0.000389</td>\n",
       "    </tr>\n",
       "    <tr>\n",
       "      <th>4</th>\n",
       "      <td>10000</td>\n",
       "      <td>U235</td>\n",
       "      <td>scatter-Y2,-2</td>\n",
       "      <td>-0.000098</td>\n",
       "      <td>0.000248</td>\n",
       "    </tr>\n",
       "    <tr>\n",
       "      <th>5</th>\n",
       "      <td>10000</td>\n",
       "      <td>U235</td>\n",
       "      <td>scatter-Y2,-1</td>\n",
       "      <td>-0.000254</td>\n",
       "      <td>0.000231</td>\n",
       "    </tr>\n",
       "    <tr>\n",
       "      <th>6</th>\n",
       "      <td>10000</td>\n",
       "      <td>U235</td>\n",
       "      <td>scatter-Y2,0</td>\n",
       "      <td>0.000131</td>\n",
       "      <td>0.000234</td>\n",
       "    </tr>\n",
       "    <tr>\n",
       "      <th>7</th>\n",
       "      <td>10000</td>\n",
       "      <td>U235</td>\n",
       "      <td>scatter-Y2,1</td>\n",
       "      <td>0.000229</td>\n",
       "      <td>0.000255</td>\n",
       "    </tr>\n",
       "    <tr>\n",
       "      <th>8</th>\n",
       "      <td>10000</td>\n",
       "      <td>U235</td>\n",
       "      <td>scatter-Y2,2</td>\n",
       "      <td>0.000095</td>\n",
       "      <td>0.000237</td>\n",
       "    </tr>\n",
       "    <tr>\n",
       "      <th>9</th>\n",
       "      <td>10000</td>\n",
       "      <td>U238</td>\n",
       "      <td>scatter-Y0,0</td>\n",
       "      <td>2.329688</td>\n",
       "      <td>0.015058</td>\n",
       "    </tr>\n",
       "    <tr>\n",
       "      <th>10</th>\n",
       "      <td>10000</td>\n",
       "      <td>U238</td>\n",
       "      <td>scatter-Y1,-1</td>\n",
       "      <td>0.023820</td>\n",
       "      <td>0.003328</td>\n",
       "    </tr>\n",
       "    <tr>\n",
       "      <th>11</th>\n",
       "      <td>10000</td>\n",
       "      <td>U238</td>\n",
       "      <td>scatter-Y1,0</td>\n",
       "      <td>0.002288</td>\n",
       "      <td>0.003201</td>\n",
       "    </tr>\n",
       "    <tr>\n",
       "      <th>12</th>\n",
       "      <td>10000</td>\n",
       "      <td>U238</td>\n",
       "      <td>scatter-Y1,1</td>\n",
       "      <td>-0.023893</td>\n",
       "      <td>0.003143</td>\n",
       "    </tr>\n",
       "    <tr>\n",
       "      <th>13</th>\n",
       "      <td>10000</td>\n",
       "      <td>U238</td>\n",
       "      <td>scatter-Y2,-2</td>\n",
       "      <td>-0.002570</td>\n",
       "      <td>0.001903</td>\n",
       "    </tr>\n",
       "    <tr>\n",
       "      <th>14</th>\n",
       "      <td>10000</td>\n",
       "      <td>U238</td>\n",
       "      <td>scatter-Y2,-1</td>\n",
       "      <td>0.001487</td>\n",
       "      <td>0.001907</td>\n",
       "    </tr>\n",
       "    <tr>\n",
       "      <th>15</th>\n",
       "      <td>10000</td>\n",
       "      <td>U238</td>\n",
       "      <td>scatter-Y2,0</td>\n",
       "      <td>0.003208</td>\n",
       "      <td>0.001964</td>\n",
       "    </tr>\n",
       "    <tr>\n",
       "      <th>16</th>\n",
       "      <td>10000</td>\n",
       "      <td>U238</td>\n",
       "      <td>scatter-Y2,1</td>\n",
       "      <td>0.000156</td>\n",
       "      <td>0.001916</td>\n",
       "    </tr>\n",
       "    <tr>\n",
       "      <th>17</th>\n",
       "      <td>10000</td>\n",
       "      <td>U238</td>\n",
       "      <td>scatter-Y2,2</td>\n",
       "      <td>0.000385</td>\n",
       "      <td>0.001944</td>\n",
       "    </tr>\n",
       "  </tbody>\n",
       "</table>\n",
       "</div>"
      ],
      "text/plain": [
       "     cell nuclide          score      mean  std. dev.\n",
       "0   10000    U235   scatter-Y0,0  0.037955   0.001142\n",
       "1   10000    U235  scatter-Y1,-1  0.000714   0.000396\n",
       "2   10000    U235   scatter-Y1,0  0.000109   0.000367\n",
       "3   10000    U235   scatter-Y1,1 -0.000498   0.000389\n",
       "4   10000    U235  scatter-Y2,-2 -0.000098   0.000248\n",
       "5   10000    U235  scatter-Y2,-1 -0.000254   0.000231\n",
       "6   10000    U235   scatter-Y2,0  0.000131   0.000234\n",
       "7   10000    U235   scatter-Y2,1  0.000229   0.000255\n",
       "8   10000    U235   scatter-Y2,2  0.000095   0.000237\n",
       "9   10000    U238   scatter-Y0,0  2.329688   0.015058\n",
       "10  10000    U238  scatter-Y1,-1  0.023820   0.003328\n",
       "11  10000    U238   scatter-Y1,0  0.002288   0.003201\n",
       "12  10000    U238   scatter-Y1,1 -0.023893   0.003143\n",
       "13  10000    U238  scatter-Y2,-2 -0.002570   0.001903\n",
       "14  10000    U238  scatter-Y2,-1  0.001487   0.001907\n",
       "15  10000    U238   scatter-Y2,0  0.003208   0.001964\n",
       "16  10000    U238   scatter-Y2,1  0.000156   0.001916\n",
       "17  10000    U238   scatter-Y2,2  0.000385   0.001944"
      ]
     },
     "execution_count": 19,
     "metadata": {},
     "output_type": "execute_result"
    }
   ],
   "source": [
    "# Get a pandas dataframe for the cell tally data\n",
    "df = tally.get_pandas_dataframe()\n",
    "\n",
    "# Print the first twenty rows in the dataframe\n",
    "df.head(100)"
   ]
  },
  {
   "cell_type": "markdown",
   "metadata": {},
   "source": [
    "Use the new Tally data retrieval API with pure NumPy"
   ]
  },
  {
   "cell_type": "code",
   "execution_count": 20,
   "metadata": {
    "collapsed": false
   },
   "outputs": [
    {
     "name": "stdout",
     "output_type": "stream",
     "text": [
      "[[[ 0.00194414  0.01505781]\n",
      "  [ 0.00023746  0.00114201]]]\n"
     ]
    }
   ],
   "source": [
    "# Get the standard deviations for two of the spherical harmonic\n",
    "# scattering reaction rates \n",
    "data = tally.get_values(scores=['scatter-Y2,2', 'scatter-Y0,0'], \n",
    "                        nuclides=['U238', 'U235'], value='std_dev')\n",
    "print(data)"
   ]
  },
  {
   "cell_type": "markdown",
   "metadata": {},
   "source": [
    "**Analyze the distribcell tally**"
   ]
  },
  {
   "cell_type": "code",
   "execution_count": 21,
   "metadata": {
    "collapsed": false
   },
   "outputs": [
    {
     "name": "stdout",
     "output_type": "stream",
     "text": [
      "Tally\n",
      "\tID             =\t10002\n",
      "\tName           =\tdistribcell tally\n",
      "\tFilters        =\t\n",
      "                \t\tdistribcell\t[10002]\n",
      "\tNuclides       =\ttotal \n",
      "\tScores         =\t[u'absorption', u'scatter']\n",
      "\tEstimator      =\ttracklength\n",
      "\n"
     ]
    }
   ],
   "source": [
    "# Find the distribcell Tally with the StatePoint API\n",
    "tally = sp.get_tally(name='distribcell tally')\n",
    "\n",
    "# Print a little info about the distribcell tally to the screen\n",
    "print(tally)"
   ]
  },
  {
   "cell_type": "markdown",
   "metadata": {},
   "source": [
    "Use the new Tally data retrieval API with pure NumPy"
   ]
  },
  {
   "cell_type": "code",
   "execution_count": 22,
   "metadata": {
    "collapsed": false
   },
   "outputs": [
    {
     "name": "stdout",
     "output_type": "stream",
     "text": [
      "[[[ 0.02540081]]]\n"
     ]
    }
   ],
   "source": [
    "# Get the relative error for the scattering reaction rates in\n",
    "# the first 10 distribcell instances \n",
    "data = tally.get_values(scores=['scatter'], filters=['distribcell'],\n",
    "                        filter_bins=[(i,) for i in range(10)], value='rel_err')\n",
    "print(data)"
   ]
  },
  {
   "cell_type": "markdown",
   "metadata": {},
   "source": [
    "Print the distribcell tally dataframe"
   ]
  },
  {
   "cell_type": "code",
   "execution_count": 23,
   "metadata": {
    "collapsed": false
   },
   "outputs": [
    {
     "data": {
      "text/html": [
       "<div>\n",
       "<table border=\"1\" class=\"dataframe\">\n",
       "  <thead>\n",
       "    <tr>\n",
       "      <th></th>\n",
       "      <th>mean</th>\n",
       "      <th>std. dev.</th>\n",
       "    </tr>\n",
       "    <tr>\n",
       "      <th></th>\n",
       "      <th></th>\n",
       "      <th></th>\n",
       "    </tr>\n",
       "    <tr>\n",
       "      <th></th>\n",
       "      <th></th>\n",
       "      <th></th>\n",
       "    </tr>\n",
       "  </thead>\n",
       "  <tbody>\n",
       "    <tr>\n",
       "      <th>count</th>\n",
       "      <td>289.000000</td>\n",
       "      <td>289.000000</td>\n",
       "    </tr>\n",
       "    <tr>\n",
       "      <th>mean</th>\n",
       "      <td>0.000415</td>\n",
       "      <td>0.000014</td>\n",
       "    </tr>\n",
       "    <tr>\n",
       "      <th>std</th>\n",
       "      <td>0.000240</td>\n",
       "      <td>0.000006</td>\n",
       "    </tr>\n",
       "    <tr>\n",
       "      <th>min</th>\n",
       "      <td>0.000016</td>\n",
       "      <td>0.000002</td>\n",
       "    </tr>\n",
       "    <tr>\n",
       "      <th>25%</th>\n",
       "      <td>0.000208</td>\n",
       "      <td>0.000010</td>\n",
       "    </tr>\n",
       "    <tr>\n",
       "      <th>50%</th>\n",
       "      <td>0.000391</td>\n",
       "      <td>0.000014</td>\n",
       "    </tr>\n",
       "    <tr>\n",
       "      <th>75%</th>\n",
       "      <td>0.000627</td>\n",
       "      <td>0.000019</td>\n",
       "    </tr>\n",
       "    <tr>\n",
       "      <th>max</th>\n",
       "      <td>0.000874</td>\n",
       "      <td>0.000030</td>\n",
       "    </tr>\n",
       "  </tbody>\n",
       "</table>\n",
       "</div>"
      ],
      "text/plain": [
       "             mean   std. dev.\n",
       "                             \n",
       "                             \n",
       "count  289.000000  289.000000\n",
       "mean     0.000415    0.000014\n",
       "std      0.000240    0.000006\n",
       "min      0.000016    0.000002\n",
       "25%      0.000208    0.000010\n",
       "50%      0.000391    0.000014\n",
       "75%      0.000627    0.000019\n",
       "max      0.000874    0.000030"
      ]
     },
     "execution_count": 23,
     "metadata": {},
     "output_type": "execute_result"
    }
   ],
   "source": [
    "# Get a pandas dataframe for the distribcell tally data\n",
    "df = tally.get_pandas_dataframe(nuclides=False)\n",
    "\n",
    "# Show summary statistics for absorption distribcell tally data\n",
    "absorption = df[df['score'] == 'absorption']\n",
    "absorption[['mean', 'std. dev.']].dropna().describe()"
   ]
  },
  {
   "cell_type": "markdown",
   "metadata": {},
   "source": [
    "## Source Sites"
   ]
  },
  {
   "cell_type": "markdown",
   "metadata": {},
   "source": [
    "Source sites are collectively written to the statepoint file for dd runs, and the source sites can be accessed from the `source` property just as the non-dd runs."
   ]
  },
  {
   "cell_type": "code",
   "execution_count": 24,
   "metadata": {
    "collapsed": false
   },
   "outputs": [
    {
     "data": {
      "text/plain": [
       "array([ (1.0025062656641603, [-3.446849704537044, -3.734481864084478, 4.760646701527949], [-0.9277011340076977, -0.2876578563067349, 0.23795706265174307], 7.974254639951965, [9077870282235869184, 9077870282235869184, 9077870282235869184, 9077870282235869184, 9077870282235869184], 0),\n",
       "       (1.0025062656641603, [-7.603944101398868, -8.983974389623876, 1.0949603403381514], [0.4118127562769325, 0.07157262573004007, 0.9084534181859317], 0.6183063063203122, [4064788676905248256, 4064788676905248256, 4064788676905248256, 4064788676905248256, 4064788676905248256], 0),\n",
       "       (1.0025062656641603, [-9.015720622152816, -6.434176907570426, -8.337066526161843], [0.7367416838038239, -0.6581842133142332, -0.15493622136166357], 2.9330523809707065, [1844997265617302016, 1844997265617302016, 1844997265617302016, 1844997265617302016, 1844997265617302016], 0),\n",
       "       ...,\n",
       "       (1.0025062656641603, [0.9798367816951745, 3.5106351846289927, 1.3571664565423787], [0.7821895088217017, -0.3724330830155733, -0.4994728931231204], 3.757391575950211, [7757050544153083904, 7757050544153083904, 7757050544153083904, 7757050544153083904, 7757050544153083904], 0),\n",
       "       (1.0025062656641603, [0.9798367816951745, 3.5106351846289927, 1.3571664565423787], [-0.5904628882136744, -0.658796231028232, -0.46619856673456433], 1.233799056308709, [980160088203769856, 980160088203769856, 980160088203769856, 980160088203769856, 980160088203769856], 0),\n",
       "       (1.0025062656641603, [0.9798367816951745, 3.5106351846289927, 1.3571664565423787], [0.04034331671024516, -0.999039844156421, 0.017082347166906153], 1.7093095920981103, [3640971070340391424, 3640971070340391424, 3640971070340391424, 3640971070340391424, 3640971070340391424], 0)], \n",
       "      dtype=[('wgt', '<f8'), ('xyz', '<f8', (3,)), ('uvw', '<f8', (3,)), ('E', '<f8'), ('prn_seeds', '<i8', (5,)), ('delayed_group', '<i4')])"
      ]
     },
     "execution_count": 24,
     "metadata": {},
     "output_type": "execute_result"
    }
   ],
   "source": [
    "sp.source"
   ]
  },
  {
   "cell_type": "markdown",
   "metadata": {},
   "source": [
    "Note it is possible for domain-deomposed runs that the number of source sites is not equal to number of particles."
   ]
  },
  {
   "cell_type": "code",
   "execution_count": 25,
   "metadata": {
    "collapsed": false
   },
   "outputs": [
    {
     "name": "stdout",
     "output_type": "stream",
     "text": [
      "1995\n",
      "2000\n"
     ]
    }
   ],
   "source": [
    "print(sp.source.size)\n",
    "print(sp.n_particles)"
   ]
  },
  {
   "cell_type": "markdown",
   "metadata": {},
   "source": [
    "The \"domain_work_index\" records the work ditribution (source bank size) of all proceses for dd runs."
   ]
  },
  {
   "cell_type": "code",
   "execution_count": 26,
   "metadata": {
    "collapsed": false
   },
   "outputs": [
    {
     "data": {
      "text/plain": [
       "array([   0,  483,  733, 1541, 1995])"
      ]
     },
     "execution_count": 26,
     "metadata": {},
     "output_type": "execute_result"
    }
   ],
   "source": [
    "sp.domain_work_index"
   ]
  },
  {
   "cell_type": "markdown",
   "metadata": {},
   "source": [
    "We can extract and plot the energy distribution of source sites."
   ]
  },
  {
   "cell_type": "code",
   "execution_count": 27,
   "metadata": {
    "collapsed": false
   },
   "outputs": [
    {
     "name": "stdout",
     "output_type": "stream",
     "text": [
      "1.0\n"
     ]
    },
    {
     "data": {
      "text/plain": [
       "<matplotlib.text.Text at 0x7f0de0604b90>"
      ]
     },
     "execution_count": 27,
     "metadata": {},
     "output_type": "execute_result"
    },
    {
     "data": {
      "image/png": "[encoded data removed]",
      "text/plain": [
       "<matplotlib.figure.Figure at 0x7f0de0695d90>"
      ]
     },
     "metadata": {},
     "output_type": "display_data"
    }
   ],
   "source": [
    "# Create log-spaced energy bins from 1 keV to 100 MeV\n",
    "energy_bins = np.logspace(-3,1)\n",
    "\n",
    "# Calculate pdf for source energies\n",
    "probability, bin_edges = np.histogram(sp.source['E'], energy_bins, density=True)\n",
    "\n",
    "# Make sure integrating the PDF gives us unity\n",
    "print(sum(probability*np.diff(energy_bins)))\n",
    "\n",
    "# Plot source energy PDF\n",
    "plt.semilogx(energy_bins[:-1], probability*np.diff(energy_bins), linestyle='steps')\n",
    "plt.xlabel('Energy (MeV)')\n",
    "plt.ylabel('Probability/MeV')"
   ]
  }
 ],
 "metadata": {
  "kernelspec": {
   "display_name": "Python 2",
   "language": "python",
   "name": "python2"
  },
  "language_info": {
   "codemirror_mode": {
    "name": "ipython",
    "version": 2
   },
   "file_extension": ".py",
   "mimetype": "text/x-python",
   "name": "python",
   "nbconvert_exporter": "python",
   "pygments_lexer": "ipython2",
   "version": "2.7.9"
  }
 },
 "nbformat": 4,
 "nbformat_minor": 0
}

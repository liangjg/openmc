{
 "cells": [
  {
   "cell_type": "markdown",
   "metadata": {},
   "source": [
    "This notebook demonstrates the usage of domain decomposition in a simulation, including how to set up domain decomposition parameters and how to post-process data from domain-seperated statepoint files using the Python API.\n"
   ]
  },
  {
   "cell_type": "code",
   "execution_count": 1,
   "metadata": {
    "collapsed": false
   },
   "outputs": [],
   "source": [
    "%matplotlib inline\n",
    "import glob\n",
    "from IPython.display import Image\n",
    "import matplotlib.pyplot as plt\n",
    "import scipy.stats\n",
    "import numpy as np\n",
    "import pandas as pd\n",
    "\n",
    "import openmc"
   ]
  },
  {
   "cell_type": "markdown",
   "metadata": {},
   "source": [
    "## Generate Input Files"
   ]
  },
  {
   "cell_type": "markdown",
   "metadata": {},
   "source": [
    "Generally, except domain decomposition parameters need to be added in the \"settings.xml\" file, the ways to define materials, geometry, tallies and plots are the same as normal modeling."
   ]
  },
  {
   "cell_type": "markdown",
   "metadata": {},
   "source": [
    "**Create materials**"
   ]
  },
  {
   "cell_type": "markdown",
   "metadata": {},
   "source": [
    "Three materials for the fuel, water, and cladding of the fuel pin are created and written to materials XML file."
   ]
  },
  {
   "cell_type": "code",
   "execution_count": 2,
   "metadata": {
    "collapsed": true
   },
   "outputs": [],
   "source": [
    "# Instantiate some Nuclides\n",
    "h1 = openmc.Nuclide('H1')\n",
    "b10 = openmc.Nuclide('B10')\n",
    "o16 = openmc.Nuclide('O16')\n",
    "u235 = openmc.Nuclide('U235')\n",
    "u238 = openmc.Nuclide('U238')\n",
    "zr90 = openmc.Nuclide('Zr90')\n",
    "\n",
    "# 1.6 enriched fuel\n",
    "fuel = openmc.Material(name='1.6% Fuel')\n",
    "fuel.set_density('g/cm3', 10.31341)\n",
    "fuel.add_nuclide(u235, 3.7503e-4)\n",
    "fuel.add_nuclide(u238, 2.2625e-2)\n",
    "fuel.add_nuclide(o16, 4.6007e-2)\n",
    "\n",
    "# borated water\n",
    "water = openmc.Material(name='Borated Water')\n",
    "water.set_density('g/cm3', 0.740582)\n",
    "water.add_nuclide(h1, 4.9457e-2)\n",
    "water.add_nuclide(o16, 2.4732e-2)\n",
    "water.add_nuclide(b10, 8.0042e-6)\n",
    "\n",
    "# zircaloy\n",
    "zircaloy = openmc.Material(name='Zircaloy')\n",
    "zircaloy.set_density('g/cm3', 6.55)\n",
    "zircaloy.add_nuclide(zr90, 7.2758e-3)\n",
    "\n",
    "# Create materials file\n",
    "# Instantiate a Materials collection\n",
    "materials_file = openmc.Materials((fuel, water, zircaloy))\n",
    "materials_file.default_xs = '71c'\n",
    "\n",
    "# Export to \"materials.xml\"\n",
    "materials_file.export_to_xml()"
   ]
  },
  {
   "cell_type": "markdown",
   "metadata": {
    "collapsed": false
   },
   "source": [
    "**Create geometry**"
   ]
  },
  {
   "cell_type": "markdown",
   "metadata": {},
   "source": [
    "This problem will be a 17x17 rectangular lattice with a 1.26 cm pitch while each pitch contains three regions for the fuel, the clad, and the surrounding coolant."
   ]
  },
  {
   "cell_type": "code",
   "execution_count": 3,
   "metadata": {
    "collapsed": false
   },
   "outputs": [],
   "source": [
    "# Create cylinders for the fuel and clad\n",
    "fuel_outer_radius = openmc.ZCylinder(x0=0.0, y0=0.0, R=0.39218)\n",
    "clad_outer_radius = openmc.ZCylinder(x0=0.0, y0=0.0, R=0.45720)\n",
    "\n",
    "# Create boundary planes to surround the geometry\n",
    "# Use both reflective and vacuum boundaries to make life interesting\n",
    "min_x = openmc.XPlane(x0=-10.71, boundary_type='reflective')\n",
    "max_x = openmc.XPlane(x0=+10.71, boundary_type='vacuum')\n",
    "min_y = openmc.YPlane(y0=-10.71, boundary_type='vacuum')\n",
    "max_y = openmc.YPlane(y0=+10.71, boundary_type='reflective')\n",
    "min_z = openmc.ZPlane(z0=-10.71, boundary_type='reflective')\n",
    "max_z = openmc.ZPlane(z0=+10.71, boundary_type='reflective')\n",
    "\n",
    "# Create a Universe to encapsulate a fuel pin\n",
    "pin_cell_universe = openmc.Universe(name='1.6% Fuel Pin')\n",
    "\n",
    "# Create fuel Cell\n",
    "fuel_cell = openmc.Cell(name='1.6% Fuel')\n",
    "fuel_cell.fill = fuel\n",
    "fuel_cell.region = -fuel_outer_radius\n",
    "pin_cell_universe.add_cell(fuel_cell)\n",
    "\n",
    "# Create a clad Cell\n",
    "clad_cell = openmc.Cell(name='1.6% Clad')\n",
    "clad_cell.fill = zircaloy\n",
    "clad_cell.region = +fuel_outer_radius & -clad_outer_radius\n",
    "pin_cell_universe.add_cell(clad_cell)\n",
    "\n",
    "# Create a moderator Cell\n",
    "moderator_cell = openmc.Cell(name='1.6% Moderator')\n",
    "moderator_cell.fill = water\n",
    "moderator_cell.region = +clad_outer_radius\n",
    "pin_cell_universe.add_cell(moderator_cell)\n",
    "\n",
    "# Create fuel assembly Lattice\n",
    "assembly = openmc.RectLattice(name='1.6% Fuel - 0BA')\n",
    "assembly.pitch = (1.26, 1.26)\n",
    "assembly.lower_left = [-1.26 * 17. / 2.0] * 2\n",
    "assembly.universes = [[pin_cell_universe] * 17] * 17\n",
    "\n",
    "# Create root Cell\n",
    "root_cell = openmc.Cell(name='root cell')\n",
    "root_cell.fill = assembly\n",
    "\n",
    "# Add boundary planes\n",
    "root_cell.region = +min_x & -max_x & +min_y & -max_y & +min_z & -max_z\n",
    "\n",
    "# Create root Universe\n",
    "root_universe = openmc.Universe(universe_id=0, name='root universe')\n",
    "root_universe.add_cell(root_cell)\n",
    "\n",
    "# Create Geometry and set root Universe\n",
    "geometry = openmc.Geometry()\n",
    "geometry.root_universe = root_universe\n",
    "\n",
    "# Export to \"geometry.xml\"\n",
    "geometry.export_to_xml()"
   ]
  },
  {
   "cell_type": "markdown",
   "metadata": {},
   "source": [
    "**Simulation parameters**"
   ]
  },
  {
   "cell_type": "markdown",
   "metadata": {},
   "source": [
    "In this case, we will use 20 inactive batches and 80 active batches each with 2000 particles."
   ]
  },
  {
   "cell_type": "code",
   "execution_count": 4,
   "metadata": {
    "collapsed": false
   },
   "outputs": [],
   "source": [
    "# OpenMC simulation parameters\n",
    "batches = 80\n",
    "inactive = 20\n",
    "particles = 2000\n",
    "\n",
    "# Instantiate a Settings object\n",
    "settings_file = openmc.Settings()\n",
    "settings_file.batches = batches\n",
    "settings_file.inactive = inactive\n",
    "settings_file.particles = particles\n",
    "settings_file.output = {'tallies': False}\n",
    "\n",
    "# Create an initial uniform spatial source distribution over fissionable zones\n",
    "bounds = [-10.71, -10.71, -10, 10.71, 10.71, 10.]\n",
    "uniform_dist = openmc.stats.Box(bounds[:3], bounds[3:], only_fissionable=True)\n",
    "settings_file.source = openmc.source.Source(space=uniform_dist)"
   ]
  },
  {
   "cell_type": "markdown",
   "metadata": {},
   "source": [
    "Now we can **set domain decomposition parameters**. By defining a 2x2x1 cartesian mesh in size of 22cmx22cmx22cm, we are going to simulate this model using 4 domains. The domain mesh region is set to be a bit larger than the lattice so that the whole geometry are covered. Since the 4 domains are symmetric, a uniform nodemap is defined."
   ]
  },
  {
   "cell_type": "code",
   "execution_count": 5,
   "metadata": {
    "collapsed": false
   },
   "outputs": [],
   "source": [
    "# Domain mesh\n",
    "settings_file.dd_mesh_dimension = [2, 2, 1]\n",
    "settings_file.dd_mesh_lower_left = [-11, -11, -11]\n",
    "settings_file.dd_mesh_upper_right = [11,  11,  11]\n",
    "\n",
    "# Nodemap to specify the distribution of load for all domains\n",
    "settings_file.dd_nodemap = [1, 1, 1, 1]\n",
    "\n",
    "# Whether or not to counts all particle interactions in all domains\n",
    "settings_file.dd_count_interactions = True"
   ]
  },
  {
   "cell_type": "markdown",
   "metadata": {},
   "source": [
    "Let's generate the \"settings.xml\" input file."
   ]
  },
  {
   "cell_type": "code",
   "execution_count": 6,
   "metadata": {
    "collapsed": true
   },
   "outputs": [],
   "source": [
    "# Export to \"settings.xml\"\n",
    "settings_file.export_to_xml()"
   ]
  },
  {
   "cell_type": "markdown",
   "metadata": {},
   "source": [
    "**Plot geometry with domain meshlines**"
   ]
  },
  {
   "cell_type": "markdown",
   "metadata": {},
   "source": [
    "Let us create a plot file to verify that our pin cell geometry was created successfully. The domain meshlines are to be plotted on top of the geometry figure."
   ]
  },
  {
   "cell_type": "code",
   "execution_count": 7,
   "metadata": {
    "collapsed": false
   },
   "outputs": [],
   "source": [
    "# Instantiate a Plot\n",
    "plot = openmc.Plot(plot_id=1)\n",
    "plot.filename = 'materials-xy'\n",
    "plot.origin = [0, 0, 0]\n",
    "plot.width = [22.5, 22.5]\n",
    "plot.pixels = [250, 250]\n",
    "plot.color = 'mat'\n",
    "\n",
    "# Plot domain meshlines and set line color to be green\n",
    "plot.meshlines = {\n",
    "    'type': 'domain_decomposition',\n",
    "    'linewidth': 1,\n",
    "    'color': (0,255,0)\n",
    "}\n",
    "\n",
    "# Instantiate a Plots collection and export to \"plots.xml\"\n",
    "plot_file = openmc.Plots([plot])\n",
    "plot_file.export_to_xml()"
   ]
  },
  {
   "cell_type": "markdown",
   "metadata": {},
   "source": [
    "With the plots.xml file, we can now generate and view the plot. OpenMC outputs plots in .ppm format, which can be converted into a compressed format like .png with the convert utility."
   ]
  },
  {
   "cell_type": "code",
   "execution_count": 8,
   "metadata": {
    "collapsed": false
   },
   "outputs": [
    {
     "data": {
      "text/plain": [
       "0"
      ]
     },
     "execution_count": 8,
     "metadata": {},
     "output_type": "execute_result"
    }
   ],
   "source": [
    "# Run openmc in plotting mode\n",
    "openmc.plot_geometry(output=False)"
   ]
  },
  {
   "cell_type": "code",
   "execution_count": 9,
   "metadata": {
    "collapsed": false
   },
   "outputs": [
    {
     "data": {
      "image/png": "[encoded data removed]",
      "text/plain": [
       "<IPython.core.display.Image object>"
      ]
     },
     "execution_count": 9,
     "metadata": {},
     "output_type": "execute_result"
    }
   ],
   "source": [
    "# Convert OpenMC's funky ppm to png\n",
    "!convert materials-xy.ppm materials-xy.png\n",
    "\n",
    "# Display the materials plot inline\n",
    "Image(filename='materials-xy.png')"
   ]
  },
  {
   "cell_type": "markdown",
   "metadata": {},
   "source": [
    "As can be seen from the plot, we have constructed a nice array of pin cells and the spatial geometry was divided into 4 domains in xy plane."
   ]
  },
  {
   "cell_type": "markdown",
   "metadata": {},
   "source": [
    "**Create tallies**"
   ]
  },
  {
   "cell_type": "markdown",
   "metadata": {},
   "source": [
    "We will set up a fission rate mesh tally, a cell tally with nuclides and a \"distribcell\" Tally."
   ]
  },
  {
   "cell_type": "code",
   "execution_count": 10,
   "metadata": {
    "collapsed": true
   },
   "outputs": [],
   "source": [
    "# Instantiate an empty Tallies object\n",
    "tallies_file = openmc.Tallies()\n",
    "tallies_file._tallies = []\n",
    "\n",
    "# Instantiate a tally Mesh\n",
    "mesh = openmc.Mesh(mesh_id=1)\n",
    "mesh.type = 'regular'\n",
    "mesh.dimension = [17, 17]\n",
    "mesh.lower_left = [-10.71, -10.71]\n",
    "mesh.width = [1.26, 1.26]\n",
    "\n",
    "# Instantiate tally Filter\n",
    "mesh_filter = openmc.Filter()\n",
    "mesh_filter.mesh = mesh\n",
    "\n",
    "# Instantiate energy Filter\n",
    "energy_filter = openmc.Filter()\n",
    "energy_filter.type = 'energy'\n",
    "energy_filter.bins = np.array([0, 0.625e-6, 20.])\n",
    "\n",
    "# Instantiate the Tally\n",
    "tally = openmc.Tally(name='mesh tally')\n",
    "tally.filters = [mesh_filter, energy_filter]\n",
    "tally.scores = ['fission', 'nu-fission']\n",
    "\n",
    "# Add mesh and Tally to Tallies\n",
    "tallies_file.append(tally)\n",
    "\n",
    "# Instantiate tally Filter\n",
    "cell_filter = openmc.Filter(type='cell', bins=[fuel_cell.id])\n",
    "\n",
    "# Instantiate the tally\n",
    "tally = openmc.Tally(name='cell tally')\n",
    "tally.filters = [cell_filter]\n",
    "tally.scores = ['scatter-y2']\n",
    "tally.nuclides = [u235, u238]\n",
    "\n",
    "# Add mesh and tally to Tallies\n",
    "tallies_file.append(tally)\n",
    "\n",
    "# Instantiate tally Filter\n",
    "distribcell_filter = openmc.Filter(type='distribcell', bins=[moderator_cell.id])\n",
    "\n",
    "# Instantiate the Tally\n",
    "tally = openmc.Tally(name='distribcell tally')\n",
    "tally.filters = [distribcell_filter]\n",
    "tally.scores = ['absorption', 'scatter']\n",
    "\n",
    "# Add mesh and tally to Tallies\n",
    "tallies_file.append(tally)\n",
    "\n",
    "# Export to \"tallies.xml\"\n",
    "tallies_file.export_to_xml()"
   ]
  },
  {
   "cell_type": "markdown",
   "metadata": {},
   "source": [
    "## Run OpenMC"
   ]
  },
  {
   "cell_type": "markdown",
   "metadata": {},
   "source": [
    "Now we a have a complete set of inputs, so we can go ahead and run our simulation. Note that domain decomposition must be run in a MPI parallel mode and the number of parallel processors **must be equal or greater** than the number of domains."
   ]
  },
  {
   "cell_type": "code",
   "execution_count": 11,
   "metadata": {
    "collapsed": false
   },
   "outputs": [
    {
     "name": "stdout",
     "output_type": "stream",
     "text": [
      "\n",
      "                               %%%%%%%%%%%%%%%\n",
      "                          %%%%%%%%%%%%%%%%%%%%%%%%\n",
      "                       %%%%%%%%%%%%%%%%%%%%%%%%%%%%%%\n",
      "                     %%%%%%%%%%%%%%%%%%%%%%%%%%%%%%%%%%\n",
      "                   %%%%%%%%%%%%%%%%%%%%%%%%%%%%%%%%%%%%%%\n",
      "                  %%%%%%%%%%%%%%%%%%%%%%%%%%%%%%%%%%%%%%%%\n",
      "                                   %%%%%%%%%%%%%%%%%%%%%%%%\n",
      "                                    %%%%%%%%%%%%%%%%%%%%%%%%\n",
      "                ###############      %%%%%%%%%%%%%%%%%%%%%%%%\n",
      "               ##################     %%%%%%%%%%%%%%%%%%%%%%%\n",
      "               ###################     %%%%%%%%%%%%%%%%%%%%%%%\n",
      "               ####################     %%%%%%%%%%%%%%%%%%%%%%\n",
      "               #####################     %%%%%%%%%%%%%%%%%%%%%\n",
      "               ######################     %%%%%%%%%%%%%%%%%%%%\n",
      "               #######################     %%%%%%%%%%%%%%%%%%\n",
      "                #######################     %%%%%%%%%%%%%%%%%\n",
      "                ######################     %%%%%%%%%%%%%%%%%\n",
      "                 ####################     %%%%%%%%%%%%%%%%%\n",
      "                   #################     %%%%%%%%%%%%%%%%%\n",
      "                    ###############     %%%%%%%%%%%%%%%%\n",
      "                      ############     %%%%%%%%%%%%%%%\n",
      "                         ########     %%%%%%%%%%%%%%\n",
      "                                     %%%%%%%%%%%\n",
      "\n",
      "                   | The OpenMC Monte Carlo Code\n",
      "         Copyright | 2011-2016 Massachusetts Institute of Technology\n",
      "           License | http://openmc.readthedocs.io/en/latest/license.html\n",
      "           Version | 0.8.0\n",
      "          Git SHA1 | db7e1e646b9143d89e364ee3c2af4909f764c23e\n",
      "         Date/Time | 2016-09-19 08:38:56\n",
      "     MPI Processes | 4\n",
      "\n",
      " ===========================================================================\n",
      " ========================>     INITIALIZATION     <=========================\n",
      " ===========================================================================\n",
      "\n",
      " Reading settings XML file...\n",
      " Reading geometry XML file...\n",
      " Reading cross sections XML file...\n",
      " Reading materials XML file...\n",
      " Reading U235.71c from /mnt/hgfs/MIT_CRPG/OpenMC/nucdata/nndc_hdf5/U235_71c.h5\n",
      " Reading U238.71c from /mnt/hgfs/MIT_CRPG/OpenMC/nucdata/nndc_hdf5/U238_71c.h5\n",
      " Reading O16.71c from /mnt/hgfs/MIT_CRPG/OpenMC/nucdata/nndc_hdf5/O16_71c.h5\n",
      " Reading H1.71c from /mnt/hgfs/MIT_CRPG/OpenMC/nucdata/nndc_hdf5/H1_71c.h5\n",
      " Reading B10.71c from /mnt/hgfs/MIT_CRPG/OpenMC/nucdata/nndc_hdf5/B10_71c.h5\n",
      " Reading Zr90.71c from /mnt/hgfs/MIT_CRPG/OpenMC/nucdata/nndc_hdf5/Zr90_71c.h5\n",
      " Maximum neutron transport energy: 20.0000 MeV for U235.71c\n",
      " Reading tallies XML file...\n",
      " Initializing domain decomposition parameters...\n",
      " Building neighboring cells lists for each surface...\n",
      " Setting up tally arrays...\n",
      " Initializing source particles...\n",
      "\n",
      " ===========================================================================\n",
      " ====================>     K EIGENVALUE SIMULATION     <====================\n",
      " ===========================================================================\n",
      "\n",
      "  Bat./Gen.      k            Average k         \n",
      "  =========   ========   ====================   \n",
      "        1/1    0.55856                       \n",
      "        2/1    0.66692                       \n",
      "        3/1    0.67520                       \n",
      "        4/1    0.66933                       \n",
      "        5/1    0.67428                       \n",
      "        6/1    0.69599                       \n",
      "        7/1    0.66958                       \n",
      "        8/1    0.71947                       \n",
      "        9/1    0.67863                       \n",
      "       10/1    0.69703                       \n",
      "       11/1    0.67057                       \n",
      "       12/1    0.65617                       \n",
      "       13/1    0.67690                       \n",
      "       14/1    0.63144                       \n",
      "       15/1    0.71262                       \n",
      "       16/1    0.68295                       \n",
      "       17/1    0.68740                       \n",
      "       18/1    0.72144                       \n",
      "       19/1    0.64494                       \n",
      "       20/1    0.67216                       \n",
      "       21/1    0.66887                       \n",
      "       22/1    0.69568    0.68227 +/- 0.01341\n",
      "       23/1    0.68654    0.68369 +/- 0.00787\n",
      "       24/1    0.71139    0.69062 +/- 0.00888\n",
      "       25/1    0.68005    0.68851 +/- 0.00720\n",
      "       26/1    0.69323    0.68929 +/- 0.00593\n",
      "       27/1    0.69722    0.69042 +/- 0.00514\n",
      "       28/1    0.65565    0.68608 +/- 0.00622\n",
      "       29/1    0.69528    0.68710 +/- 0.00558\n",
      "       30/1    0.70658    0.68905 +/- 0.00536\n",
      "       31/1    0.65877    0.68630 +/- 0.00557\n",
      "       32/1    0.66589    0.68459 +/- 0.00536\n",
      "       33/1    0.68933    0.68496 +/- 0.00495\n",
      "       34/1    0.70931    0.68670 +/- 0.00490\n",
      "       35/1    0.67304    0.68579 +/- 0.00465\n",
      "       36/1    0.67712    0.68525 +/- 0.00439\n",
      "       37/1    0.66931    0.68431 +/- 0.00422\n",
      "       38/1    0.68892    0.68456 +/- 0.00399\n",
      "       39/1    0.68994    0.68485 +/- 0.00379\n",
      "       40/1    0.68004    0.68461 +/- 0.00360\n",
      "       41/1    0.68842    0.68479 +/- 0.00343\n",
      "       42/1    0.67611    0.68439 +/- 0.00329\n",
      "       43/1    0.69955    0.68505 +/- 0.00321\n",
      "       44/1    0.68151    0.68491 +/- 0.00308\n",
      "       45/1    0.67052    0.68433 +/- 0.00301\n",
      "       46/1    0.69961    0.68492 +/- 0.00295\n",
      "       47/1    0.66737    0.68427 +/- 0.00291\n",
      "       48/1    0.65167    0.68310 +/- 0.00304\n",
      "       49/1    0.68996    0.68334 +/- 0.00294\n",
      "       50/1    0.68959    0.68355 +/- 0.00285\n",
      "       51/1    0.71745    0.68464 +/- 0.00297\n",
      "       52/1    0.71016    0.68544 +/- 0.00298\n",
      "       53/1    0.66714    0.68488 +/- 0.00294\n",
      "       54/1    0.66997    0.68445 +/- 0.00289\n",
      "       55/1    0.69203    0.68466 +/- 0.00281\n",
      "       56/1    0.70565    0.68525 +/- 0.00279\n",
      "       57/1    0.65757    0.68450 +/- 0.00282\n",
      "       58/1    0.70390    0.68501 +/- 0.00279\n",
      "       59/1    0.73940    0.68640 +/- 0.00305\n",
      "       60/1    0.65401    0.68559 +/- 0.00309\n",
      "       61/1    0.70156    0.68598 +/- 0.00303\n",
      "       62/1    0.67737    0.68578 +/- 0.00297\n",
      "       63/1    0.66553    0.68531 +/- 0.00294\n",
      "       64/1    0.69054    0.68543 +/- 0.00287\n",
      "       65/1    0.66486    0.68497 +/- 0.00284\n",
      "       66/1    0.68813    0.68504 +/- 0.00278\n",
      "       67/1    0.68522    0.68504 +/- 0.00272\n",
      "       68/1    0.66554    0.68464 +/- 0.00270\n",
      "       69/1    0.68044    0.68455 +/- 0.00264\n",
      "       70/1    0.69440    0.68475 +/- 0.00260\n",
      "       71/1    0.67280    0.68451 +/- 0.00256\n",
      "       72/1    0.67408    0.68431 +/- 0.00251\n",
      "       73/1    0.69114    0.68444 +/- 0.00247\n",
      "       74/1    0.69407    0.68462 +/- 0.00243\n",
      "       75/1    0.70798    0.68504 +/- 0.00242\n",
      "       76/1    0.69537    0.68523 +/- 0.00239\n",
      "       77/1    0.64994    0.68461 +/- 0.00242\n",
      "       78/1    0.66361    0.68425 +/- 0.00241\n",
      "       79/1    0.69887    0.68449 +/- 0.00238\n",
      "       80/1    0.66995    0.68425 +/- 0.00235\n",
      " Creating state point statepoint.80.h5...\n",
      "\n",
      " ===========================================================================\n",
      " ======================>     SIMULATION FINISHED     <======================\n",
      " ===========================================================================\n",
      "\n",
      "\n",
      " =======================>     TIMING STATISTICS     <=======================\n",
      "\n",
      " Total time for initialization     =  1.8320E+00 seconds\n",
      "   Reading cross sections          =  8.8400E-01 seconds\n",
      " Total time in simulation          =  1.1554E+02 seconds\n",
      "   Time in transport only          =  2.0532E+01 seconds\n",
      "   Time in inactive batches        =  2.7604E+01 seconds\n",
      "   Time in active batches          =  8.7939E+01 seconds\n",
      "   Time synchronizing fission bank =  3.4850E+00 seconds\n",
      "     Sampling source sites         =  0.0000E+00 seconds\n",
      "     SEND/RECV source sites        =  2.1350E+00 seconds\n",
      "   Time accumulating tallies       =  2.9090E+00 seconds\n",
      "   Time writing statepoints        =  6.7200E-01 seconds\n",
      "   Time writing materials          =  0.0000E+00 seconds\n",
      " Total time for finalization       =  0.0000E+00 seconds\n",
      " Total time elapsed                =  1.1742E+02 seconds\n",
      " Calculation Rate (inactive)       =  1449.07 neutrons/second\n",
      " Calculation Rate (active)         =  1364.58 neutrons/second\n",
      "\n",
      " ============================>     RESULTS     <============================\n",
      "\n",
      " k-effective (Collision)     =  0.68242 +/-  0.00221\n",
      " k-effective (Track-length)  =  0.68458 +/-  0.00238\n",
      " k-effective (Absorption)    =  0.68260 +/-  0.00261\n",
      " Combined k-effective        =  0.68311 +/-  0.00203\n",
      " Leakage Fraction            =  0.34110 +/-  0.00135\n",
      "\n",
      "\n",
      " ===================>     DOMAIN INTERACTION COUNTS     <===================\n",
      "\n",
      " Domain Mesh I-J-K           No. Interactions\n",
      " 1-1-1                            3795942\n",
      " 2-1-1                            2028669\n",
      " 1-2-1                            7338042\n",
      " 2-2-1                            3872259\n"
     ]
    },
    {
     "data": {
      "text/plain": [
       "0"
      ]
     },
     "execution_count": 11,
     "metadata": {},
     "output_type": "execute_result"
    }
   ],
   "source": [
    "# Run OpenMC!\n",
    "openmc.run(mpi_procs=4)"
   ]
  },
  {
   "cell_type": "markdown",
   "metadata": {},
   "source": [
    "## Tally Data Processing"
   ]
  },
  {
   "cell_type": "markdown",
   "metadata": {},
   "source": [
    "The domain decomposed simulation ran successfully. A statepoint files was created at the end of simulation. It should be noted that in domain decomposed runs, tally arrays are allocated in a \"on-the-fly\" way and tally results are accumulated for each domain. In the statepoint file, domain-specified on-the-fly tallies rather than the normally reduced tally results are written inside a new group \"on_the_fly_results\" for each tally. Tally data of different on-the-fly processes are written in different sub-groups \"proc_i\", where \"*i*\" represents the domain id."
   ]
  },
  {
   "cell_type": "markdown",
   "metadata": {},
   "source": [
    "Since tally results are seperated in multiple groups for dd runs, some merging work should be done to get the whole tally data. OpenMC Python API can do this job easily. Once the statepoint file is loaded, the Python API will automatically link all domain-specified groups and merge the tally data together. All the features for tally processing can be used normally."
   ]
  },
  {
   "cell_type": "code",
   "execution_count": 12,
   "metadata": {
    "collapsed": false
   },
   "outputs": [],
   "source": [
    "# Load statepoint file\n",
    "sp = openmc.StatePoint('statepoint.80.h5')"
   ]
  },
  {
   "cell_type": "markdown",
   "metadata": {},
   "source": [
    "We can check the domain decomposition infomation, like the number of domains, domain mesh, nodemap, etc."
   ]
  },
  {
   "cell_type": "code",
   "execution_count": 13,
   "metadata": {
    "collapsed": false
   },
   "outputs": [
    {
     "name": "stdout",
     "output_type": "stream",
     "text": [
      "Domain decomposition ative: True\n",
      "Number of domains: 4\n",
      "Load ditribution: [ 0.25  0.25  0.25  0.25]\n",
      "Counts of interactions: [3795942 2028669 7338042 3872259]\n",
      "Domain mesh: Mesh\n",
      "\tID             =\t10000\n",
      "\tName           =\tdomain decomposition mesh\n",
      "\tType           =\tregular\n",
      "\tBasis          =\t[2 2 1]\n",
      "\tWidth          =\t[-11. -11. -11.]\n",
      "\tOrigin         =\t[ 11.  11.  11.]\n",
      "\tPixels         =\t[ 11.  11.  22.]\n",
      "\n"
     ]
    }
   ],
   "source": [
    "print(\"Domain decomposition ative: {0}\".format(sp.domain_decomp_on))\n",
    "print(\"Number of domains: {0}\".format(sp.domain_number))\n",
    "print(\"Load ditribution: {0}\".format(sp.domain_nodemap))\n",
    "print(\"Counts of interactions: {0}\".format(sp.domain_n_interactions))\n",
    "print(\"Domain mesh: {0}\".format(sp.domain_decomp_mesh))"
   ]
  },
  {
   "cell_type": "markdown",
   "metadata": {},
   "source": [
    "**Analyze the mesh fission rate tally**"
   ]
  },
  {
   "cell_type": "code",
   "execution_count": 14,
   "metadata": {
    "collapsed": false
   },
   "outputs": [
    {
     "name": "stdout",
     "output_type": "stream",
     "text": [
      "Tally\n",
      "\tID             =\t10000\n",
      "\tName           =\tmesh tally\n",
      "\tFilters        =\t\n",
      "                \t\tmesh\t[1]\n",
      "                \t\tenergy\t[  0.00000000e+00   6.25000000e-07   2.00000000e+01]\n",
      "\tNuclides       =\ttotal \n",
      "\tScores         =\t[u'fission', u'nu-fission']\n",
      "\tEstimator      =\ttracklength\n",
      "\n"
     ]
    }
   ],
   "source": [
    "# Find the mesh tally with the StatePoint API\n",
    "tally = sp.get_tally(name='mesh tally')\n",
    "\n",
    "# Print a little info about the mesh tally to the screen\n",
    "print(tally)"
   ]
  },
  {
   "cell_type": "markdown",
   "metadata": {},
   "source": [
    "Use the new Tally data retrieval API with pure NumPy"
   ]
  },
  {
   "cell_type": "code",
   "execution_count": 15,
   "metadata": {
    "collapsed": false
   },
   "outputs": [
    {
     "name": "stdout",
     "output_type": "stream",
     "text": [
      "[[[ 0.08270833]]\n",
      "\n",
      " [[ 0.21367682]]\n",
      "\n",
      " [[ 0.03793194]]\n",
      "\n",
      " [[ 0.0897004 ]]]\n"
     ]
    }
   ],
   "source": [
    "# Get the relative error for the thermal fission reaction \n",
    "# rates in the four corner pins \n",
    "data = tally.get_values(scores=['fission'], filters=['mesh', 'energy'], \\\n",
    "                        filter_bins=[((1,1),(1,17), (17,1), (17,17)), \\\n",
    "                                    ((0., 0.625e-6),)], value='rel_err')\n",
    "print(data)"
   ]
  },
  {
   "cell_type": "code",
   "execution_count": 16,
   "metadata": {
    "collapsed": false
   },
   "outputs": [
    {
     "data": {
      "image/png": "[encoded data removed]",
      "text/plain": [
       "<matplotlib.figure.Figure at 0x7eff6a1f3fd0>"
      ]
     },
     "metadata": {},
     "output_type": "display_data"
    }
   ],
   "source": [
    "# Get a pandas dataframe for the mesh tally data\n",
    "df = tally.get_pandas_dataframe(nuclides=False)\n",
    "\n",
    "# Create a boxplot to view the distribution of\n",
    "# fission and nu-fission rates in the pins\n",
    "bp = df.boxplot(column='mean', by='score')"
   ]
  },
  {
   "cell_type": "code",
   "execution_count": 17,
   "metadata": {
    "collapsed": false
   },
   "outputs": [
    {
     "data": {
      "text/plain": [
       "<matplotlib.colorbar.Colorbar at 0x7eff69693110>"
      ]
     },
     "execution_count": 17,
     "metadata": {},
     "output_type": "execute_result"
    },
    {
     "data": {
      "image/png": "[encoded data removed]",
      "text/plain": [
       "<matplotlib.figure.Figure at 0x7eff6a217490>"
      ]
     },
     "metadata": {},
     "output_type": "display_data"
    }
   ],
   "source": [
    "# Extract thermal nu-fission rates from pandas\n",
    "fiss = df[df['score'] == 'nu-fission']\n",
    "fiss = fiss[fiss['energy low [MeV]'] == 0.0]\n",
    "\n",
    "# Extract mean and reshape as 2D NumPy arrays\n",
    "mean = fiss['mean'].reshape((17,17))\n",
    "\n",
    "plt.imshow(mean, interpolation='nearest')\n",
    "plt.title('fission rate')\n",
    "plt.xlabel('x')\n",
    "plt.ylabel('y')\n",
    "plt.colorbar()"
   ]
  },
  {
   "cell_type": "markdown",
   "metadata": {},
   "source": [
    "**Analyze the cell+nuclides scatter-y2 rate tally**"
   ]
  },
  {
   "cell_type": "code",
   "execution_count": 18,
   "metadata": {
    "collapsed": false
   },
   "outputs": [
    {
     "name": "stdout",
     "output_type": "stream",
     "text": [
      "Tally\n",
      "\tID             =\t10001\n",
      "\tName           =\tcell tally\n",
      "\tFilters        =\t\n",
      "                \t\tcell\t[10000]\n",
      "\tNuclides       =\tU235 U238 \n",
      "\tScores         =\t[u'scatter-Y0,0', u'scatter-Y1,-1', u'scatter-Y1,0', u'scatter-Y1,1', u'scatter-Y2,-2', u'scatter-Y2,-1', u'scatter-Y2,0', u'scatter-Y2,1', u'scatter-Y2,2']\n",
      "\tEstimator      =\tanalog\n",
      "\n"
     ]
    }
   ],
   "source": [
    "# Find the cell Tally with the StatePoint API\n",
    "tally = sp.get_tally(name='cell tally')\n",
    "\n",
    "# Print a little info about the cell tally to the screen\n",
    "print(tally)"
   ]
  },
  {
   "cell_type": "code",
   "execution_count": 19,
   "metadata": {
    "collapsed": false
   },
   "outputs": [
    {
     "data": {
      "text/html": [
       "<div>\n",
       "<table border=\"1\" class=\"dataframe\">\n",
       "  <thead>\n",
       "    <tr style=\"text-align: right;\">\n",
       "      <th></th>\n",
       "      <th>cell</th>\n",
       "      <th>nuclide</th>\n",
       "      <th>score</th>\n",
       "      <th>mean</th>\n",
       "      <th>std. dev.</th>\n",
       "    </tr>\n",
       "  </thead>\n",
       "  <tbody>\n",
       "    <tr>\n",
       "      <th>0</th>\n",
       "      <td>10000</td>\n",
       "      <td>U235</td>\n",
       "      <td>scatter-Y0,0</td>\n",
       "      <td>0.040063</td>\n",
       "      <td>0.001161</td>\n",
       "    </tr>\n",
       "    <tr>\n",
       "      <th>1</th>\n",
       "      <td>10000</td>\n",
       "      <td>U235</td>\n",
       "      <td>scatter-Y1,-1</td>\n",
       "      <td>0.000690</td>\n",
       "      <td>0.000399</td>\n",
       "    </tr>\n",
       "    <tr>\n",
       "      <th>2</th>\n",
       "      <td>10000</td>\n",
       "      <td>U235</td>\n",
       "      <td>scatter-Y1,0</td>\n",
       "      <td>-0.000127</td>\n",
       "      <td>0.000410</td>\n",
       "    </tr>\n",
       "    <tr>\n",
       "      <th>3</th>\n",
       "      <td>10000</td>\n",
       "      <td>U235</td>\n",
       "      <td>scatter-Y1,1</td>\n",
       "      <td>-0.000536</td>\n",
       "      <td>0.000386</td>\n",
       "    </tr>\n",
       "    <tr>\n",
       "      <th>4</th>\n",
       "      <td>10000</td>\n",
       "      <td>U235</td>\n",
       "      <td>scatter-Y2,-2</td>\n",
       "      <td>-0.000013</td>\n",
       "      <td>0.000222</td>\n",
       "    </tr>\n",
       "    <tr>\n",
       "      <th>5</th>\n",
       "      <td>10000</td>\n",
       "      <td>U235</td>\n",
       "      <td>scatter-Y2,-1</td>\n",
       "      <td>-0.000053</td>\n",
       "      <td>0.000245</td>\n",
       "    </tr>\n",
       "    <tr>\n",
       "      <th>6</th>\n",
       "      <td>10000</td>\n",
       "      <td>U235</td>\n",
       "      <td>scatter-Y2,0</td>\n",
       "      <td>0.000160</td>\n",
       "      <td>0.000233</td>\n",
       "    </tr>\n",
       "    <tr>\n",
       "      <th>7</th>\n",
       "      <td>10000</td>\n",
       "      <td>U235</td>\n",
       "      <td>scatter-Y2,1</td>\n",
       "      <td>0.000025</td>\n",
       "      <td>0.000234</td>\n",
       "    </tr>\n",
       "    <tr>\n",
       "      <th>8</th>\n",
       "      <td>10000</td>\n",
       "      <td>U235</td>\n",
       "      <td>scatter-Y2,2</td>\n",
       "      <td>0.000010</td>\n",
       "      <td>0.000227</td>\n",
       "    </tr>\n",
       "    <tr>\n",
       "      <th>9</th>\n",
       "      <td>10000</td>\n",
       "      <td>U238</td>\n",
       "      <td>scatter-Y0,0</td>\n",
       "      <td>2.321295</td>\n",
       "      <td>0.014383</td>\n",
       "    </tr>\n",
       "    <tr>\n",
       "      <th>10</th>\n",
       "      <td>10000</td>\n",
       "      <td>U238</td>\n",
       "      <td>scatter-Y1,-1</td>\n",
       "      <td>0.027581</td>\n",
       "      <td>0.003299</td>\n",
       "    </tr>\n",
       "    <tr>\n",
       "      <th>11</th>\n",
       "      <td>10000</td>\n",
       "      <td>U238</td>\n",
       "      <td>scatter-Y1,0</td>\n",
       "      <td>-0.001022</td>\n",
       "      <td>0.003192</td>\n",
       "    </tr>\n",
       "    <tr>\n",
       "      <th>12</th>\n",
       "      <td>10000</td>\n",
       "      <td>U238</td>\n",
       "      <td>scatter-Y1,1</td>\n",
       "      <td>-0.026562</td>\n",
       "      <td>0.003170</td>\n",
       "    </tr>\n",
       "    <tr>\n",
       "      <th>13</th>\n",
       "      <td>10000</td>\n",
       "      <td>U238</td>\n",
       "      <td>scatter-Y2,-2</td>\n",
       "      <td>-0.002189</td>\n",
       "      <td>0.001938</td>\n",
       "    </tr>\n",
       "    <tr>\n",
       "      <th>14</th>\n",
       "      <td>10000</td>\n",
       "      <td>U238</td>\n",
       "      <td>scatter-Y2,-1</td>\n",
       "      <td>-0.001385</td>\n",
       "      <td>0.001809</td>\n",
       "    </tr>\n",
       "    <tr>\n",
       "      <th>15</th>\n",
       "      <td>10000</td>\n",
       "      <td>U238</td>\n",
       "      <td>scatter-Y2,0</td>\n",
       "      <td>0.005145</td>\n",
       "      <td>0.002005</td>\n",
       "    </tr>\n",
       "    <tr>\n",
       "      <th>16</th>\n",
       "      <td>10000</td>\n",
       "      <td>U238</td>\n",
       "      <td>scatter-Y2,1</td>\n",
       "      <td>0.001519</td>\n",
       "      <td>0.001861</td>\n",
       "    </tr>\n",
       "    <tr>\n",
       "      <th>17</th>\n",
       "      <td>10000</td>\n",
       "      <td>U238</td>\n",
       "      <td>scatter-Y2,2</td>\n",
       "      <td>-0.000141</td>\n",
       "      <td>0.001849</td>\n",
       "    </tr>\n",
       "  </tbody>\n",
       "</table>\n",
       "</div>"
      ],
      "text/plain": [
       "     cell nuclide          score      mean  std. dev.\n",
       "0   10000    U235   scatter-Y0,0  0.040063   0.001161\n",
       "1   10000    U235  scatter-Y1,-1  0.000690   0.000399\n",
       "2   10000    U235   scatter-Y1,0 -0.000127   0.000410\n",
       "3   10000    U235   scatter-Y1,1 -0.000536   0.000386\n",
       "4   10000    U235  scatter-Y2,-2 -0.000013   0.000222\n",
       "5   10000    U235  scatter-Y2,-1 -0.000053   0.000245\n",
       "6   10000    U235   scatter-Y2,0  0.000160   0.000233\n",
       "7   10000    U235   scatter-Y2,1  0.000025   0.000234\n",
       "8   10000    U235   scatter-Y2,2  0.000010   0.000227\n",
       "9   10000    U238   scatter-Y0,0  2.321295   0.014383\n",
       "10  10000    U238  scatter-Y1,-1  0.027581   0.003299\n",
       "11  10000    U238   scatter-Y1,0 -0.001022   0.003192\n",
       "12  10000    U238   scatter-Y1,1 -0.026562   0.003170\n",
       "13  10000    U238  scatter-Y2,-2 -0.002189   0.001938\n",
       "14  10000    U238  scatter-Y2,-1 -0.001385   0.001809\n",
       "15  10000    U238   scatter-Y2,0  0.005145   0.002005\n",
       "16  10000    U238   scatter-Y2,1  0.001519   0.001861\n",
       "17  10000    U238   scatter-Y2,2 -0.000141   0.001849"
      ]
     },
     "execution_count": 19,
     "metadata": {},
     "output_type": "execute_result"
    }
   ],
   "source": [
    "# Get a pandas dataframe for the cell tally data\n",
    "df = tally.get_pandas_dataframe()\n",
    "\n",
    "# Print the first twenty rows in the dataframe\n",
    "df.head(100)"
   ]
  },
  {
   "cell_type": "markdown",
   "metadata": {},
   "source": [
    "Use the new Tally data retrieval API with pure NumPy"
   ]
  },
  {
   "cell_type": "code",
   "execution_count": 20,
   "metadata": {
    "collapsed": false
   },
   "outputs": [
    {
     "name": "stdout",
     "output_type": "stream",
     "text": [
      "[[[ 0.00184875  0.01438284]\n",
      "  [ 0.00022656  0.00116088]]]\n"
     ]
    }
   ],
   "source": [
    "# Get the standard deviations for two of the spherical harmonic\n",
    "# scattering reaction rates \n",
    "data = tally.get_values(scores=['scatter-Y2,2', 'scatter-Y0,0'], \n",
    "                        nuclides=['U238', 'U235'], value='std_dev')\n",
    "print(data)"
   ]
  },
  {
   "cell_type": "markdown",
   "metadata": {},
   "source": [
    "**Analyze the distribcell tally**"
   ]
  },
  {
   "cell_type": "code",
   "execution_count": 21,
   "metadata": {
    "collapsed": false
   },
   "outputs": [
    {
     "name": "stdout",
     "output_type": "stream",
     "text": [
      "Tally\n",
      "\tID             =\t10002\n",
      "\tName           =\tdistribcell tally\n",
      "\tFilters        =\t\n",
      "                \t\tdistribcell\t[10002]\n",
      "\tNuclides       =\ttotal \n",
      "\tScores         =\t[u'absorption', u'scatter']\n",
      "\tEstimator      =\ttracklength\n",
      "\n"
     ]
    }
   ],
   "source": [
    "# Find the distribcell Tally with the StatePoint API\n",
    "tally = sp.get_tally(name='distribcell tally')\n",
    "\n",
    "# Print a little info about the distribcell tally to the screen\n",
    "print(tally)"
   ]
  },
  {
   "cell_type": "markdown",
   "metadata": {},
   "source": [
    "Use the new Tally data retrieval API with pure NumPy"
   ]
  },
  {
   "cell_type": "code",
   "execution_count": 22,
   "metadata": {
    "collapsed": false
   },
   "outputs": [
    {
     "name": "stdout",
     "output_type": "stream",
     "text": [
      "[[[ 0.03045141]]]\n"
     ]
    }
   ],
   "source": [
    "# Get the relative error for the scattering reaction rates in\n",
    "# the first 10 distribcell instances \n",
    "data = tally.get_values(scores=['scatter'], filters=['distribcell'],\n",
    "                        filter_bins=[(i,) for i in range(10)], value='rel_err')\n",
    "print(data)"
   ]
  },
  {
   "cell_type": "markdown",
   "metadata": {},
   "source": [
    "Print the distribcell tally dataframe"
   ]
  },
  {
   "cell_type": "code",
   "execution_count": 23,
   "metadata": {
    "collapsed": false
   },
   "outputs": [
    {
     "data": {
      "text/html": [
       "<div>\n",
       "<table border=\"1\" class=\"dataframe\">\n",
       "  <thead>\n",
       "    <tr>\n",
       "      <th></th>\n",
       "      <th>mean</th>\n",
       "      <th>std. dev.</th>\n",
       "    </tr>\n",
       "    <tr>\n",
       "      <th></th>\n",
       "      <th></th>\n",
       "      <th></th>\n",
       "    </tr>\n",
       "    <tr>\n",
       "      <th></th>\n",
       "      <th></th>\n",
       "      <th></th>\n",
       "    </tr>\n",
       "  </thead>\n",
       "  <tbody>\n",
       "    <tr>\n",
       "      <th>count</th>\n",
       "      <td>289.000000</td>\n",
       "      <td>289.000000</td>\n",
       "    </tr>\n",
       "    <tr>\n",
       "      <th>mean</th>\n",
       "      <td>0.000420</td>\n",
       "      <td>0.000014</td>\n",
       "    </tr>\n",
       "    <tr>\n",
       "      <th>std</th>\n",
       "      <td>0.000246</td>\n",
       "      <td>0.000005</td>\n",
       "    </tr>\n",
       "    <tr>\n",
       "      <th>min</th>\n",
       "      <td>0.000022</td>\n",
       "      <td>0.000003</td>\n",
       "    </tr>\n",
       "    <tr>\n",
       "      <th>25%</th>\n",
       "      <td>0.000205</td>\n",
       "      <td>0.000010</td>\n",
       "    </tr>\n",
       "    <tr>\n",
       "      <th>50%</th>\n",
       "      <td>0.000400</td>\n",
       "      <td>0.000014</td>\n",
       "    </tr>\n",
       "    <tr>\n",
       "      <th>75%</th>\n",
       "      <td>0.000637</td>\n",
       "      <td>0.000017</td>\n",
       "    </tr>\n",
       "    <tr>\n",
       "      <th>max</th>\n",
       "      <td>0.000910</td>\n",
       "      <td>0.000027</td>\n",
       "    </tr>\n",
       "  </tbody>\n",
       "</table>\n",
       "</div>"
      ],
      "text/plain": [
       "             mean   std. dev.\n",
       "                             \n",
       "                             \n",
       "count  289.000000  289.000000\n",
       "mean     0.000420    0.000014\n",
       "std      0.000246    0.000005\n",
       "min      0.000022    0.000003\n",
       "25%      0.000205    0.000010\n",
       "50%      0.000400    0.000014\n",
       "75%      0.000637    0.000017\n",
       "max      0.000910    0.000027"
      ]
     },
     "execution_count": 23,
     "metadata": {},
     "output_type": "execute_result"
    }
   ],
   "source": [
    "# Get a pandas dataframe for the distribcell tally data\n",
    "df = tally.get_pandas_dataframe(nuclides=False)\n",
    "\n",
    "# Show summary statistics for absorption distribcell tally data\n",
    "absorption = df[df['score'] == 'absorption']\n",
    "absorption[['mean', 'std. dev.']].dropna().describe()"
   ]
  },
  {
   "cell_type": "markdown",
   "metadata": {},
   "source": [
    "## Source Sites"
   ]
  },
  {
   "cell_type": "markdown",
   "metadata": {},
   "source": [
    "Source sites are collectively written to the statepoint file for dd runs, and the source sites can be accessed from the `source` property just as the non-dd runs."
   ]
  },
  {
   "cell_type": "code",
   "execution_count": 24,
   "metadata": {
    "collapsed": false
   },
   "outputs": [
    {
     "data": {
      "text/plain": [
       "array([ (1.0, [-5.312238378368373, -6.295656557051402, -0.1779440036451838], [-0.6730871100669994, 0.4919867994895997, 0.5521799809750761], 5.949804418103104, [840794674862244865, 6934349365496378368, 6934349365496378368, 6934349365496378368, 6934349365496378368], 0),\n",
       "       (1.0, [-2.615745903491511, -2.197496430890661, 8.753073693963334], [0.6621826512051119, 0.7306521599776638, -0.16631764056450443], 2.736277598912233, [1334438214561119233, 7629304569621613568, 7629304569621613568, 7629304569621613568, 7629304569621613568], 0),\n",
       "       (1.0, [-2.615745903491511, -2.197496430890661, 8.753073693963334], [-0.41408225799822496, 0.7916217723498274, 0.44930040413158917], 0.19727782371613845, [885403115609691137, 961042177063912448, 961042177063912448, 961042177063912448, 961042177063912448], 0),\n",
       "       ...,\n",
       "       (1.0, [0.21973480162180453, 0.002042195490380913, -2.3294170312539357], [0.38625874476554856, 0.44904930634254153, -0.8057039794896292], 1.8535697343379944, [6973965171584359169, 1481594609824792320, 1481594609824792320, 1481594609824792320, 1481594609824792320], 0),\n",
       "       (1.0, [0.21973480162180453, 0.002042195490380913, -2.3294170312539357], [-0.7937425038646122, -0.38516264850220466, -0.470768065779215], 0.12033958323005493, [9050820792012902401, 8774548472006758400, 8774548472006758400, 8774548472006758400, 8774548472006758400], 0),\n",
       "       (1.0, [0.21973480162180453, 0.002042195490380913, -2.3294170312539357], [-0.9109211945409857, -0.28217751784215667, -0.3009957238242148], 1.4215967645835876, [1425316515848974337, 7921970832760254464, 7921970832760254464, 7921970832760254464, 7921970832760254464], 0)], \n",
       "      dtype=[('wgt', '<f8'), ('xyz', '<f8', (3,)), ('uvw', '<f8', (3,)), ('E', '<f8'), ('prn_seeds', '<i8', (5,)), ('delayed_group', '<i4')])"
      ]
     },
     "execution_count": 24,
     "metadata": {},
     "output_type": "execute_result"
    }
   ],
   "source": [
    "sp.source"
   ]
  },
  {
   "cell_type": "markdown",
   "metadata": {},
   "source": [
    "Note it is possible for domain-deomposed runs that the number of source sites is not equal to number of particles."
   ]
  },
  {
   "cell_type": "code",
   "execution_count": 25,
   "metadata": {
    "collapsed": false
   },
   "outputs": [
    {
     "name": "stdout",
     "output_type": "stream",
     "text": [
      "1996\n",
      "2000\n"
     ]
    }
   ],
   "source": [
    "print(sp.source.size)\n",
    "print(sp.n_particles)"
   ]
  },
  {
   "cell_type": "markdown",
   "metadata": {},
   "source": [
    "The \"domain_work_index\" records the work ditribution (source bank size) of all proceses for dd runs."
   ]
  },
  {
   "cell_type": "code",
   "execution_count": 26,
   "metadata": {
    "collapsed": false
   },
   "outputs": [
    {
     "data": {
      "text/plain": [
       "array([   0,  450,  656, 1502, 1996])"
      ]
     },
     "execution_count": 26,
     "metadata": {},
     "output_type": "execute_result"
    }
   ],
   "source": [
    "sp.domain_work_index"
   ]
  },
  {
   "cell_type": "markdown",
   "metadata": {},
   "source": [
    "We can extract and plot the energy distribution of source sites."
   ]
  },
  {
   "cell_type": "code",
   "execution_count": 27,
   "metadata": {
    "collapsed": false
   },
   "outputs": [
    {
     "name": "stdout",
     "output_type": "stream",
     "text": [
      "1.0\n"
     ]
    },
    {
     "data": {
      "text/plain": [
       "<matplotlib.text.Text at 0x7eff6961ef90>"
      ]
     },
     "execution_count": 27,
     "metadata": {},
     "output_type": "execute_result"
    },
    {
     "data": {
      "image/png": "[encoded data removed]",
      "text/plain": [
       "<matplotlib.figure.Figure at 0x7eff696c5d90>"
      ]
     },
     "metadata": {},
     "output_type": "display_data"
    }
   ],
   "source": [
    "# Create log-spaced energy bins from 1 keV to 100 MeV\n",
    "energy_bins = np.logspace(-3,1)\n",
    "\n",
    "# Calculate pdf for source energies\n",
    "probability, bin_edges = np.histogram(sp.source['E'], energy_bins, density=True)\n",
    "\n",
    "# Make sure integrating the PDF gives us unity\n",
    "print(sum(probability*np.diff(energy_bins)))\n",
    "\n",
    "# Plot source energy PDF\n",
    "plt.semilogx(energy_bins[:-1], probability*np.diff(energy_bins), linestyle='steps')\n",
    "plt.xlabel('Energy (MeV)')\n",
    "plt.ylabel('Probability/MeV')"
   ]
  }
 ],
 "metadata": {
  "kernelspec": {
   "display_name": "Python 2",
   "language": "python",
   "name": "python2"
  },
  "language_info": {
   "codemirror_mode": {
    "name": "ipython",
    "version": 2
   },
   "file_extension": ".py",
   "mimetype": "text/x-python",
   "name": "python",
   "nbconvert_exporter": "python",
   "pygments_lexer": "ipython2",
   "version": "2.7.9"
  }
 },
 "nbformat": 4,
 "nbformat_minor": 0
}
